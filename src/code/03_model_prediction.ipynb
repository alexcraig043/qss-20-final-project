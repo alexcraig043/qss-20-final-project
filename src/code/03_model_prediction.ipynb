{
 "cells": [
  {
   "attachments": {},
   "cell_type": "markdown",
   "metadata": {},
   "source": [
    "# Step 3: Predictive Modeling\n",
    "We will attempt to create a predictive model which takes in the columns of `master_df` as features and attempts to predict a school's MCAS score. We will use the `master_df` dataframe which we created in the previous notebook."
   ]
  },
  {
   "attachments": {},
   "cell_type": "markdown",
   "metadata": {},
   "source": [
    "## 3.0 Import Libraries"
   ]
  },
  {
   "cell_type": "code",
   "execution_count": 332,
   "metadata": {},
   "outputs": [],
   "source": [
    "import pandas as pd\n",
    "import numpy as np\n",
    "from sklearn.model_selection import train_test_split, GridSearchCV, cross_val_score, KFold\n",
    "from sklearn.metrics import mean_squared_error, r2_score\n",
    "from sklearn.linear_model import Lasso, Ridge"
   ]
  },
  {
   "attachments": {},
   "cell_type": "markdown",
   "metadata": {},
   "source": [
    "## 3.1 Load Data"
   ]
  },
  {
   "cell_type": "code",
   "execution_count": 333,
   "metadata": {},
   "outputs": [
    {
     "data": {
      "text/plain": [
       "Index(['distname', 'schoolname', 'flag_nerds', 'flag_f33', 'ncesenroll',\n",
       "       'gradespan', 'pp_stloc_raw_MA', 'pp_fed_raw_MA', 'pp_total_raw_MA',\n",
       "       'schoolstloc_raw_MA', 'schoolfed_raw_MA', 'schooltot_raw_MA',\n",
       "       'distname_lower', 'schoolname_lower', 'School Name', 'School Code',\n",
       "       'ELA_elem', 'MATH_elem', 'SCI', 'avg_score_elem', 'ELA_hs', 'MATH_hs',\n",
       "       'avg_score_hs', 'avg_score', 'African American', 'Asian', 'Hispanic',\n",
       "       'White', 'Native American', 'Native Hawaiian, Pacific Islander',\n",
       "       'Multi-Race, Non-Hispanic', 'Males', 'Females', '% Graduated',\n",
       "       'First Language Not English #', 'First Language Not English %',\n",
       "       'English Language Learner #', 'English Language Learner %',\n",
       "       'Students With Disabilities #', 'Students With Disabilities %',\n",
       "       'High Needs #', 'High Needs #.1', 'Economically Disadvantaged #',\n",
       "       'Economically Disadvantaged %', 'african_american_staff', 'asian_staff',\n",
       "       'hispanic_staff', 'white_staff', 'native_american_staff',\n",
       "       'hawaiian_pacific_staff', 'multi_race_staff', 'females_staff',\n",
       "       'males_staff', 'fte_staff', 'student_teacher_ratio',\n",
       "       'student_teacher_ratio_nan_flag', 'District Name', 'District Code',\n",
       "       'salary_totals_teachers', 'avg_salary_teachers', 'FTE Count',\n",
       "       'no_salary_flag'],\n",
       "      dtype='object')"
      ]
     },
     "execution_count": 333,
     "metadata": {},
     "output_type": "execute_result"
    }
   ],
   "source": [
    "master_df = pd.read_csv(\"../output/master_df.csv\")\n",
    "master_df.columns"
   ]
  },
  {
   "attachments": {},
   "cell_type": "markdown",
   "metadata": {},
   "source": [
    "## 3.0 Create Train/Test Split\n",
    "Here, we will first identify which columns we want to use as features and which column we want to use as the target. We will then create a train/test split of the data."
   ]
  },
  {
   "cell_type": "code",
   "execution_count": 334,
   "metadata": {},
   "outputs": [],
   "source": [
    "# Let's drop non-feature columns\n",
    "feature_cols = master_df.drop(columns=[\"distname\", \"schoolname\", \"flag_nerds\", \"flag_f33\", \"gradespan\", \"distname_lower\", \"schoolname_lower\", \"School Name\", \"School Code\", \"District Name\", \"District Code\", \"ELA_elem\", \"MATH_elem\", \"SCI\", \"avg_score_elem\", \"ELA_hs\", \"MATH_hs\", \"avg_score_hs\", \"avg_score\",\"salary_totals_teachers\", \"student_teacher_ratio_nan_flag\", \"no_salary_flag\"]).columns.to_list()\n",
    "\n",
    "# Get rid of columns with '#' in the name, we only want '%' columns\n",
    "feature_cols = [col for col in feature_cols if \"#\" not in col]\n",
    "\n",
    "# # Let's also make independent demographics, finance, and school info feature lists\n",
    "# demo_feature_cols = [\"African American\", \"Asian\", \"Hispanic\", \"White\", \"Native American\", \"Native Hawaiian, Pacific Islander\", \"Multi-Race, Non-Hispanic\", \"african_american_staff\", \"asian_staff\", \"hispanic_staff\", \"white_staff\", \"native_american_staff\", \"hawaiian_pacific_staff\", \"multi_race_staff\", \"Males\", \"Females\", \"males_staff\", \"females_staff\"]\n",
    "\n",
    "# finance_feature_cols = [\"pp_stloc_raw_MA\", \"pp_fed_raw_MA\", \"pp_total_raw_MA\", \"schoolstloc_raw_MA\", \"schoolfed_raw_MA\", \"schooltot_raw_MA\"]\n",
    "\n",
    "# school_info_feature_cols = [\"ncesenroll\", \"% Graduated\", \"fte_staff\", \"student_teacher_ratio\", \"avg_salary_teachers\"]"
   ]
  },
  {
   "attachments": {},
   "cell_type": "markdown",
   "metadata": {},
   "source": [
    "Lets inspect our features."
   ]
  },
  {
   "cell_type": "code",
   "execution_count": 335,
   "metadata": {},
   "outputs": [
    {
     "data": {
      "text/html": [
       "<div>\n",
       "<style scoped>\n",
       "    .dataframe tbody tr th:only-of-type {\n",
       "        vertical-align: middle;\n",
       "    }\n",
       "\n",
       "    .dataframe tbody tr th {\n",
       "        vertical-align: top;\n",
       "    }\n",
       "\n",
       "    .dataframe thead th {\n",
       "        text-align: right;\n",
       "    }\n",
       "</style>\n",
       "<table border=\"1\" class=\"dataframe\">\n",
       "  <thead>\n",
       "    <tr style=\"text-align: right;\">\n",
       "      <th></th>\n",
       "      <th>ncesenroll</th>\n",
       "      <th>pp_stloc_raw_MA</th>\n",
       "      <th>pp_fed_raw_MA</th>\n",
       "      <th>pp_total_raw_MA</th>\n",
       "      <th>schoolstloc_raw_MA</th>\n",
       "      <th>schoolfed_raw_MA</th>\n",
       "      <th>schooltot_raw_MA</th>\n",
       "      <th>African American</th>\n",
       "      <th>Asian</th>\n",
       "      <th>Hispanic</th>\n",
       "      <th>...</th>\n",
       "      <th>white_staff</th>\n",
       "      <th>native_american_staff</th>\n",
       "      <th>hawaiian_pacific_staff</th>\n",
       "      <th>multi_race_staff</th>\n",
       "      <th>females_staff</th>\n",
       "      <th>males_staff</th>\n",
       "      <th>fte_staff</th>\n",
       "      <th>student_teacher_ratio</th>\n",
       "      <th>avg_salary_teachers</th>\n",
       "      <th>FTE Count</th>\n",
       "    </tr>\n",
       "  </thead>\n",
       "  <tbody>\n",
       "    <tr>\n",
       "      <th>0</th>\n",
       "      <td>545.0</td>\n",
       "      <td>14880.475672</td>\n",
       "      <td>20.812074</td>\n",
       "      <td>14901.287746</td>\n",
       "      <td>8.052652e+06</td>\n",
       "      <td>11262.569511</td>\n",
       "      <td>8.063915e+06</td>\n",
       "      <td>3.9</td>\n",
       "      <td>2.4</td>\n",
       "      <td>7.9</td>\n",
       "      <td>...</td>\n",
       "      <td>95.7</td>\n",
       "      <td>0.0</td>\n",
       "      <td>0.0</td>\n",
       "      <td>1.6</td>\n",
       "      <td>72.5</td>\n",
       "      <td>27.5</td>\n",
       "      <td>62</td>\n",
       "      <td>14.4</td>\n",
       "      <td>93861.0</td>\n",
       "      <td>11469788.0</td>\n",
       "    </tr>\n",
       "    <tr>\n",
       "      <th>1</th>\n",
       "      <td>672.0</td>\n",
       "      <td>13057.825084</td>\n",
       "      <td>83.417661</td>\n",
       "      <td>13141.242745</td>\n",
       "      <td>8.839857e+06</td>\n",
       "      <td>56471.903107</td>\n",
       "      <td>8.896329e+06</td>\n",
       "      <td>2.1</td>\n",
       "      <td>1.8</td>\n",
       "      <td>7.1</td>\n",
       "      <td>...</td>\n",
       "      <td>92.5</td>\n",
       "      <td>0.0</td>\n",
       "      <td>0.0</td>\n",
       "      <td>0.0</td>\n",
       "      <td>77.3</td>\n",
       "      <td>22.7</td>\n",
       "      <td>73</td>\n",
       "      <td>17.6</td>\n",
       "      <td>93861.0</td>\n",
       "      <td>11469788.0</td>\n",
       "    </tr>\n",
       "    <tr>\n",
       "      <th>2</th>\n",
       "      <td>294.0</td>\n",
       "      <td>13201.700857</td>\n",
       "      <td>499.583587</td>\n",
       "      <td>13701.284443</td>\n",
       "      <td>3.841768e+06</td>\n",
       "      <td>145381.599180</td>\n",
       "      <td>3.987150e+06</td>\n",
       "      <td>2.7</td>\n",
       "      <td>3.1</td>\n",
       "      <td>7.1</td>\n",
       "      <td>...</td>\n",
       "      <td>100.0</td>\n",
       "      <td>0.0</td>\n",
       "      <td>0.0</td>\n",
       "      <td>0.0</td>\n",
       "      <td>88.8</td>\n",
       "      <td>11.2</td>\n",
       "      <td>39</td>\n",
       "      <td>18.0</td>\n",
       "      <td>93861.0</td>\n",
       "      <td>11469788.0</td>\n",
       "    </tr>\n",
       "    <tr>\n",
       "      <th>3</th>\n",
       "      <td>1837.0</td>\n",
       "      <td>14634.333856</td>\n",
       "      <td>191.007988</td>\n",
       "      <td>14825.341844</td>\n",
       "      <td>2.676628e+07</td>\n",
       "      <td>349354.671134</td>\n",
       "      <td>2.711563e+07</td>\n",
       "      <td>2.0</td>\n",
       "      <td>32.5</td>\n",
       "      <td>3.8</td>\n",
       "      <td>...</td>\n",
       "      <td>96.1</td>\n",
       "      <td>0.5</td>\n",
       "      <td>0.0</td>\n",
       "      <td>0.0</td>\n",
       "      <td>76.1</td>\n",
       "      <td>23.9</td>\n",
       "      <td>195</td>\n",
       "      <td>14.7</td>\n",
       "      <td>86677.0</td>\n",
       "      <td>32945978.0</td>\n",
       "    </tr>\n",
       "    <tr>\n",
       "      <th>4</th>\n",
       "      <td>464.0</td>\n",
       "      <td>16005.357328</td>\n",
       "      <td>289.306328</td>\n",
       "      <td>16294.663656</td>\n",
       "      <td>7.481971e+06</td>\n",
       "      <td>135241.064602</td>\n",
       "      <td>7.617212e+06</td>\n",
       "      <td>1.3</td>\n",
       "      <td>31.5</td>\n",
       "      <td>5.0</td>\n",
       "      <td>...</td>\n",
       "      <td>95.9</td>\n",
       "      <td>0.0</td>\n",
       "      <td>0.0</td>\n",
       "      <td>0.0</td>\n",
       "      <td>91.4</td>\n",
       "      <td>8.6</td>\n",
       "      <td>79</td>\n",
       "      <td>14.3</td>\n",
       "      <td>86677.0</td>\n",
       "      <td>32945978.0</td>\n",
       "    </tr>\n",
       "  </tbody>\n",
       "</table>\n",
       "<p>5 rows × 34 columns</p>\n",
       "</div>"
      ],
      "text/plain": [
       "   ncesenroll  pp_stloc_raw_MA  pp_fed_raw_MA  pp_total_raw_MA  \\\n",
       "0       545.0     14880.475672      20.812074     14901.287746   \n",
       "1       672.0     13057.825084      83.417661     13141.242745   \n",
       "2       294.0     13201.700857     499.583587     13701.284443   \n",
       "3      1837.0     14634.333856     191.007988     14825.341844   \n",
       "4       464.0     16005.357328     289.306328     16294.663656   \n",
       "\n",
       "   schoolstloc_raw_MA  schoolfed_raw_MA  schooltot_raw_MA  African American  \\\n",
       "0        8.052652e+06      11262.569511      8.063915e+06               3.9   \n",
       "1        8.839857e+06      56471.903107      8.896329e+06               2.1   \n",
       "2        3.841768e+06     145381.599180      3.987150e+06               2.7   \n",
       "3        2.676628e+07     349354.671134      2.711563e+07               2.0   \n",
       "4        7.481971e+06     135241.064602      7.617212e+06               1.3   \n",
       "\n",
       "   Asian  Hispanic  ...  white_staff  native_american_staff  \\\n",
       "0    2.4       7.9  ...         95.7                    0.0   \n",
       "1    1.8       7.1  ...         92.5                    0.0   \n",
       "2    3.1       7.1  ...        100.0                    0.0   \n",
       "3   32.5       3.8  ...         96.1                    0.5   \n",
       "4   31.5       5.0  ...         95.9                    0.0   \n",
       "\n",
       "   hawaiian_pacific_staff  multi_race_staff  females_staff  males_staff  \\\n",
       "0                     0.0               1.6           72.5         27.5   \n",
       "1                     0.0               0.0           77.3         22.7   \n",
       "2                     0.0               0.0           88.8         11.2   \n",
       "3                     0.0               0.0           76.1         23.9   \n",
       "4                     0.0               0.0           91.4          8.6   \n",
       "\n",
       "   fte_staff  student_teacher_ratio  avg_salary_teachers   FTE Count  \n",
       "0         62                   14.4              93861.0  11469788.0  \n",
       "1         73                   17.6              93861.0  11469788.0  \n",
       "2         39                   18.0              93861.0  11469788.0  \n",
       "3        195                   14.7              86677.0  32945978.0  \n",
       "4         79                   14.3              86677.0  32945978.0  \n",
       "\n",
       "[5 rows x 34 columns]"
      ]
     },
     "execution_count": 335,
     "metadata": {},
     "output_type": "execute_result"
    }
   ],
   "source": [
    "feature_df = master_df[feature_cols]\n",
    "# demo_feature_df = master_df[demo_feature_cols]\n",
    "# finance_feature_df = master_df[finance_feature_cols]\n",
    "# school_info_feature_df = master_df[school_info_feature_cols]\n",
    "feature_df.head()"
   ]
  },
  {
   "attachments": {},
   "cell_type": "markdown",
   "metadata": {},
   "source": [
    "Let's normalize our columns so that they are all floats between 0 and 1 for easier comparison in our model."
   ]
  },
  {
   "cell_type": "code",
   "execution_count": 336,
   "metadata": {},
   "outputs": [],
   "source": [
    "feature_df = feature_df.apply(lambda x: (x - x.min()) / (x.max() - x.min()))\n",
    "# demo_feature_df = demo_feature_df.apply(lambda x: (x - x.min()) / (x.max() - x.min()))\n",
    "# finance_feature_df = finance_feature_df.apply(lambda x: (x - x.min()) / (x.max() - x.min()))\n",
    "# school_info_feature_df = school_info_feature_df.apply(lambda x: (x - x.min()) / (x.max() - x.min()))"
   ]
  },
  {
   "cell_type": "code",
   "execution_count": 337,
   "metadata": {},
   "outputs": [
    {
     "data": {
      "text/html": [
       "<div>\n",
       "<style scoped>\n",
       "    .dataframe tbody tr th:only-of-type {\n",
       "        vertical-align: middle;\n",
       "    }\n",
       "\n",
       "    .dataframe tbody tr th {\n",
       "        vertical-align: top;\n",
       "    }\n",
       "\n",
       "    .dataframe thead th {\n",
       "        text-align: right;\n",
       "    }\n",
       "</style>\n",
       "<table border=\"1\" class=\"dataframe\">\n",
       "  <thead>\n",
       "    <tr style=\"text-align: right;\">\n",
       "      <th></th>\n",
       "      <th>ncesenroll</th>\n",
       "      <th>pp_stloc_raw_MA</th>\n",
       "      <th>pp_fed_raw_MA</th>\n",
       "      <th>pp_total_raw_MA</th>\n",
       "      <th>schoolstloc_raw_MA</th>\n",
       "      <th>schoolfed_raw_MA</th>\n",
       "      <th>schooltot_raw_MA</th>\n",
       "      <th>African American</th>\n",
       "      <th>Asian</th>\n",
       "      <th>Hispanic</th>\n",
       "      <th>...</th>\n",
       "      <th>white_staff</th>\n",
       "      <th>native_american_staff</th>\n",
       "      <th>hawaiian_pacific_staff</th>\n",
       "      <th>multi_race_staff</th>\n",
       "      <th>females_staff</th>\n",
       "      <th>males_staff</th>\n",
       "      <th>fte_staff</th>\n",
       "      <th>student_teacher_ratio</th>\n",
       "      <th>avg_salary_teachers</th>\n",
       "      <th>FTE Count</th>\n",
       "    </tr>\n",
       "  </thead>\n",
       "  <tbody>\n",
       "  </tbody>\n",
       "</table>\n",
       "<p>0 rows × 34 columns</p>\n",
       "</div>"
      ],
      "text/plain": [
       "Empty DataFrame\n",
       "Columns: [ncesenroll, pp_stloc_raw_MA, pp_fed_raw_MA, pp_total_raw_MA, schoolstloc_raw_MA, schoolfed_raw_MA, schooltot_raw_MA, African American, Asian, Hispanic, White, Native American, Native Hawaiian, Pacific Islander, Multi-Race, Non-Hispanic, Males, Females, % Graduated, First Language Not English %, English Language Learner %, Students With Disabilities %, Economically Disadvantaged %, african_american_staff, asian_staff, hispanic_staff, white_staff, native_american_staff, hawaiian_pacific_staff, multi_race_staff, females_staff, males_staff, fte_staff, student_teacher_ratio, avg_salary_teachers, FTE Count]\n",
       "Index: []\n",
       "\n",
       "[0 rows x 34 columns]"
      ]
     },
     "execution_count": 337,
     "metadata": {},
     "output_type": "execute_result"
    }
   ],
   "source": [
    "# Look for any columns with null values\n",
    "feature_df[feature_df.isnull().any(axis=1)]"
   ]
  },
  {
   "attachments": {},
   "cell_type": "markdown",
   "metadata": {},
   "source": [
    "Now that we have our features, let's create our train/test split."
   ]
  },
  {
   "cell_type": "code",
   "execution_count": 338,
   "metadata": {},
   "outputs": [],
   "source": [
    "X = feature_df\n",
    "y = master_df[\"avg_score\"]\n",
    "\n",
    "X_train, X_test, y_train, y_test = train_test_split(X, y, test_size=0.2, random_state=42)\n",
    "\n",
    "# X_demo = demo_feature_df\n",
    "# X_finance = finance_feature_df\n",
    "# X_school_info = school_info_feature_df\n",
    "\n",
    "# X_train_demo, X_test_demo, y_train_demo, y_test_demo = train_test_split(X_demo, y, test_size=0.2, random_state=42)\n",
    "# X_train_finance, X_test_finance, y_train_finance, y_test_finance = train_test_split(X_finance, y, test_size=0.2, random_state=42)\n",
    "# X_train_school_info, X_test_school_info, y_train_school_info, y_test_school_info = train_test_split(X_school_info, y, test_size=0.2, random_state=42)"
   ]
  },
  {
   "attachments": {},
   "cell_type": "markdown",
   "metadata": {},
   "source": [
    "Let's also set up a k-fold cross validation object."
   ]
  },
  {
   "cell_type": "code",
   "execution_count": 339,
   "metadata": {},
   "outputs": [],
   "source": [
    "kf = KFold(n_splits=5, shuffle=True, random_state=42)"
   ]
  },
  {
   "attachments": {},
   "cell_type": "markdown",
   "metadata": {},
   "source": [
    "## 3.1 Lasso Model"
   ]
  },
  {
   "attachments": {},
   "cell_type": "markdown",
   "metadata": {},
   "source": [
    "### 3.1.0 Lasso Model Creation"
   ]
  },
  {
   "attachments": {},
   "cell_type": "markdown",
   "metadata": {},
   "source": [
    "Let's create a Lasso model and see how it performs."
   ]
  },
  {
   "cell_type": "code",
   "execution_count": 340,
   "metadata": {},
   "outputs": [],
   "source": [
    "lasso = Lasso()\n",
    "\n",
    "param_grid_lasso = {\n",
    "    'alpha': [0.001, 0.01, 0.1, 1, 10, 100, 1000],\n",
    "    'max_iter': [10, 25, 50, 75, 100, 1000]\n",
    "}"
   ]
  },
  {
   "attachments": {},
   "cell_type": "markdown",
   "metadata": {},
   "source": [
    "Let's use a GridSearchCV to find the best alpha value for our Lasso model."
   ]
  },
  {
   "cell_type": "code",
   "execution_count": 341,
   "metadata": {},
   "outputs": [
    {
     "name": "stderr",
     "output_type": "stream",
     "text": [
      "/opt/homebrew/lib/python3.10/site-packages/sklearn/linear_model/_coordinate_descent.py:631: ConvergenceWarning: Objective did not converge. You might want to increase the number of iterations, check the scale of the features or consider increasing regularisation. Duality gap: 1.320e+04, tolerance: 1.016e+01\n",
      "  model = cd_fast.enet_coordinate_descent(\n",
      "/opt/homebrew/lib/python3.10/site-packages/sklearn/linear_model/_coordinate_descent.py:631: ConvergenceWarning: Objective did not converge. You might want to increase the number of iterations, check the scale of the features or consider increasing regularisation. Duality gap: 1.268e+04, tolerance: 9.309e+00\n",
      "  model = cd_fast.enet_coordinate_descent(\n",
      "/opt/homebrew/lib/python3.10/site-packages/sklearn/linear_model/_coordinate_descent.py:631: ConvergenceWarning: Objective did not converge. You might want to increase the number of iterations, check the scale of the features or consider increasing regularisation. Duality gap: 1.343e+04, tolerance: 9.792e+00\n",
      "  model = cd_fast.enet_coordinate_descent(\n",
      "/opt/homebrew/lib/python3.10/site-packages/sklearn/linear_model/_coordinate_descent.py:631: ConvergenceWarning: Objective did not converge. You might want to increase the number of iterations, check the scale of the features or consider increasing regularisation. Duality gap: 1.284e+04, tolerance: 9.996e+00\n",
      "  model = cd_fast.enet_coordinate_descent(\n",
      "/opt/homebrew/lib/python3.10/site-packages/sklearn/linear_model/_coordinate_descent.py:631: ConvergenceWarning: Objective did not converge. You might want to increase the number of iterations, check the scale of the features or consider increasing regularisation. Duality gap: 1.311e+04, tolerance: 9.951e+00\n",
      "  model = cd_fast.enet_coordinate_descent(\n",
      "/opt/homebrew/lib/python3.10/site-packages/sklearn/linear_model/_coordinate_descent.py:631: ConvergenceWarning: Objective did not converge. You might want to increase the number of iterations, check the scale of the features or consider increasing regularisation. Duality gap: 9.082e+03, tolerance: 1.016e+01\n",
      "  model = cd_fast.enet_coordinate_descent(\n",
      "/opt/homebrew/lib/python3.10/site-packages/sklearn/linear_model/_coordinate_descent.py:631: ConvergenceWarning: Objective did not converge. You might want to increase the number of iterations, check the scale of the features or consider increasing regularisation. Duality gap: 8.397e+03, tolerance: 9.309e+00\n",
      "  model = cd_fast.enet_coordinate_descent(\n",
      "/opt/homebrew/lib/python3.10/site-packages/sklearn/linear_model/_coordinate_descent.py:631: ConvergenceWarning: Objective did not converge. You might want to increase the number of iterations, check the scale of the features or consider increasing regularisation. Duality gap: 7.526e+03, tolerance: 9.792e+00\n",
      "  model = cd_fast.enet_coordinate_descent(\n",
      "/opt/homebrew/lib/python3.10/site-packages/sklearn/linear_model/_coordinate_descent.py:631: ConvergenceWarning: Objective did not converge. You might want to increase the number of iterations, check the scale of the features or consider increasing regularisation. Duality gap: 9.224e+03, tolerance: 9.996e+00\n",
      "  model = cd_fast.enet_coordinate_descent(\n",
      "/opt/homebrew/lib/python3.10/site-packages/sklearn/linear_model/_coordinate_descent.py:631: ConvergenceWarning: Objective did not converge. You might want to increase the number of iterations, check the scale of the features or consider increasing regularisation. Duality gap: 9.624e+03, tolerance: 9.951e+00\n",
      "  model = cd_fast.enet_coordinate_descent(\n",
      "/opt/homebrew/lib/python3.10/site-packages/sklearn/linear_model/_coordinate_descent.py:631: ConvergenceWarning: Objective did not converge. You might want to increase the number of iterations, check the scale of the features or consider increasing regularisation. Duality gap: 1.789e+03, tolerance: 1.016e+01\n",
      "  model = cd_fast.enet_coordinate_descent(\n",
      "/opt/homebrew/lib/python3.10/site-packages/sklearn/linear_model/_coordinate_descent.py:631: ConvergenceWarning: Objective did not converge. You might want to increase the number of iterations, check the scale of the features or consider increasing regularisation. Duality gap: 1.873e+03, tolerance: 9.309e+00\n",
      "  model = cd_fast.enet_coordinate_descent(\n",
      "/opt/homebrew/lib/python3.10/site-packages/sklearn/linear_model/_coordinate_descent.py:631: ConvergenceWarning: Objective did not converge. You might want to increase the number of iterations, check the scale of the features or consider increasing regularisation. Duality gap: 1.377e+03, tolerance: 9.792e+00\n",
      "  model = cd_fast.enet_coordinate_descent(\n",
      "/opt/homebrew/lib/python3.10/site-packages/sklearn/linear_model/_coordinate_descent.py:631: ConvergenceWarning: Objective did not converge. You might want to increase the number of iterations, check the scale of the features or consider increasing regularisation. Duality gap: 3.444e+03, tolerance: 9.996e+00\n",
      "  model = cd_fast.enet_coordinate_descent(\n",
      "/opt/homebrew/lib/python3.10/site-packages/sklearn/linear_model/_coordinate_descent.py:631: ConvergenceWarning: Objective did not converge. You might want to increase the number of iterations, check the scale of the features or consider increasing regularisation. Duality gap: 1.470e+03, tolerance: 9.951e+00\n",
      "  model = cd_fast.enet_coordinate_descent(\n",
      "/opt/homebrew/lib/python3.10/site-packages/sklearn/linear_model/_coordinate_descent.py:631: ConvergenceWarning: Objective did not converge. You might want to increase the number of iterations, check the scale of the features or consider increasing regularisation. Duality gap: 1.200e+02, tolerance: 1.016e+01\n",
      "  model = cd_fast.enet_coordinate_descent(\n",
      "/opt/homebrew/lib/python3.10/site-packages/sklearn/linear_model/_coordinate_descent.py:631: ConvergenceWarning: Objective did not converge. You might want to increase the number of iterations, check the scale of the features or consider increasing regularisation. Duality gap: 2.567e+02, tolerance: 9.309e+00\n",
      "  model = cd_fast.enet_coordinate_descent(\n",
      "/opt/homebrew/lib/python3.10/site-packages/sklearn/linear_model/_coordinate_descent.py:631: ConvergenceWarning: Objective did not converge. You might want to increase the number of iterations, check the scale of the features or consider increasing regularisation. Duality gap: 1.802e+02, tolerance: 9.792e+00\n",
      "  model = cd_fast.enet_coordinate_descent(\n",
      "/opt/homebrew/lib/python3.10/site-packages/sklearn/linear_model/_coordinate_descent.py:631: ConvergenceWarning: Objective did not converge. You might want to increase the number of iterations, check the scale of the features or consider increasing regularisation. Duality gap: 5.646e+02, tolerance: 9.996e+00\n",
      "  model = cd_fast.enet_coordinate_descent(\n",
      "/opt/homebrew/lib/python3.10/site-packages/sklearn/linear_model/_coordinate_descent.py:631: ConvergenceWarning: Objective did not converge. You might want to increase the number of iterations, check the scale of the features or consider increasing regularisation. Duality gap: 2.391e+02, tolerance: 9.951e+00\n",
      "  model = cd_fast.enet_coordinate_descent(\n",
      "/opt/homebrew/lib/python3.10/site-packages/sklearn/linear_model/_coordinate_descent.py:631: ConvergenceWarning: Objective did not converge. You might want to increase the number of iterations, check the scale of the features or consider increasing regularisation. Duality gap: 8.701e+01, tolerance: 1.016e+01\n",
      "  model = cd_fast.enet_coordinate_descent(\n",
      "/opt/homebrew/lib/python3.10/site-packages/sklearn/linear_model/_coordinate_descent.py:631: ConvergenceWarning: Objective did not converge. You might want to increase the number of iterations, check the scale of the features or consider increasing regularisation. Duality gap: 2.374e+02, tolerance: 9.309e+00\n",
      "  model = cd_fast.enet_coordinate_descent(\n",
      "/opt/homebrew/lib/python3.10/site-packages/sklearn/linear_model/_coordinate_descent.py:631: ConvergenceWarning: Objective did not converge. You might want to increase the number of iterations, check the scale of the features or consider increasing regularisation. Duality gap: 6.408e+01, tolerance: 9.792e+00\n",
      "  model = cd_fast.enet_coordinate_descent(\n",
      "/opt/homebrew/lib/python3.10/site-packages/sklearn/linear_model/_coordinate_descent.py:631: ConvergenceWarning: Objective did not converge. You might want to increase the number of iterations, check the scale of the features or consider increasing regularisation. Duality gap: 2.762e+01, tolerance: 9.996e+00\n",
      "  model = cd_fast.enet_coordinate_descent(\n",
      "/opt/homebrew/lib/python3.10/site-packages/sklearn/linear_model/_coordinate_descent.py:631: ConvergenceWarning: Objective did not converge. You might want to increase the number of iterations, check the scale of the features or consider increasing regularisation. Duality gap: 1.442e+02, tolerance: 9.951e+00\n",
      "  model = cd_fast.enet_coordinate_descent(\n",
      "/opt/homebrew/lib/python3.10/site-packages/sklearn/linear_model/_coordinate_descent.py:631: ConvergenceWarning: Objective did not converge. You might want to increase the number of iterations, check the scale of the features or consider increasing regularisation. Duality gap: 1.249e+04, tolerance: 1.016e+01\n",
      "  model = cd_fast.enet_coordinate_descent(\n",
      "/opt/homebrew/lib/python3.10/site-packages/sklearn/linear_model/_coordinate_descent.py:631: ConvergenceWarning: Objective did not converge. You might want to increase the number of iterations, check the scale of the features or consider increasing regularisation. Duality gap: 1.201e+04, tolerance: 9.309e+00\n",
      "  model = cd_fast.enet_coordinate_descent(\n",
      "/opt/homebrew/lib/python3.10/site-packages/sklearn/linear_model/_coordinate_descent.py:631: ConvergenceWarning: Objective did not converge. You might want to increase the number of iterations, check the scale of the features or consider increasing regularisation. Duality gap: 1.254e+04, tolerance: 9.792e+00\n",
      "  model = cd_fast.enet_coordinate_descent(\n",
      "/opt/homebrew/lib/python3.10/site-packages/sklearn/linear_model/_coordinate_descent.py:631: ConvergenceWarning: Objective did not converge. You might want to increase the number of iterations, check the scale of the features or consider increasing regularisation. Duality gap: 1.204e+04, tolerance: 9.996e+00\n",
      "  model = cd_fast.enet_coordinate_descent(\n",
      "/opt/homebrew/lib/python3.10/site-packages/sklearn/linear_model/_coordinate_descent.py:631: ConvergenceWarning: Objective did not converge. You might want to increase the number of iterations, check the scale of the features or consider increasing regularisation. Duality gap: 1.269e+04, tolerance: 9.951e+00\n",
      "  model = cd_fast.enet_coordinate_descent(\n",
      "/opt/homebrew/lib/python3.10/site-packages/sklearn/linear_model/_coordinate_descent.py:631: ConvergenceWarning: Objective did not converge. You might want to increase the number of iterations, check the scale of the features or consider increasing regularisation. Duality gap: 1.713e+03, tolerance: 1.016e+01\n",
      "  model = cd_fast.enet_coordinate_descent(\n",
      "/opt/homebrew/lib/python3.10/site-packages/sklearn/linear_model/_coordinate_descent.py:631: ConvergenceWarning: Objective did not converge. You might want to increase the number of iterations, check the scale of the features or consider increasing regularisation. Duality gap: 1.835e+03, tolerance: 9.309e+00\n",
      "  model = cd_fast.enet_coordinate_descent(\n",
      "/opt/homebrew/lib/python3.10/site-packages/sklearn/linear_model/_coordinate_descent.py:631: ConvergenceWarning: Objective did not converge. You might want to increase the number of iterations, check the scale of the features or consider increasing regularisation. Duality gap: 1.705e+03, tolerance: 9.792e+00\n",
      "  model = cd_fast.enet_coordinate_descent(\n",
      "/opt/homebrew/lib/python3.10/site-packages/sklearn/linear_model/_coordinate_descent.py:631: ConvergenceWarning: Objective did not converge. You might want to increase the number of iterations, check the scale of the features or consider increasing regularisation. Duality gap: 1.191e+03, tolerance: 9.996e+00\n",
      "  model = cd_fast.enet_coordinate_descent(\n",
      "/opt/homebrew/lib/python3.10/site-packages/sklearn/linear_model/_coordinate_descent.py:631: ConvergenceWarning: Objective did not converge. You might want to increase the number of iterations, check the scale of the features or consider increasing regularisation. Duality gap: 2.032e+03, tolerance: 9.951e+00\n",
      "  model = cd_fast.enet_coordinate_descent(\n",
      "/opt/homebrew/lib/python3.10/site-packages/sklearn/linear_model/_coordinate_descent.py:631: ConvergenceWarning: Objective did not converge. You might want to increase the number of iterations, check the scale of the features or consider increasing regularisation. Duality gap: 6.217e+01, tolerance: 1.016e+01\n",
      "  model = cd_fast.enet_coordinate_descent(\n",
      "/opt/homebrew/lib/python3.10/site-packages/sklearn/linear_model/_coordinate_descent.py:631: ConvergenceWarning: Objective did not converge. You might want to increase the number of iterations, check the scale of the features or consider increasing regularisation. Duality gap: 2.199e+01, tolerance: 9.309e+00\n",
      "  model = cd_fast.enet_coordinate_descent(\n",
      "/opt/homebrew/lib/python3.10/site-packages/sklearn/linear_model/_coordinate_descent.py:631: ConvergenceWarning: Objective did not converge. You might want to increase the number of iterations, check the scale of the features or consider increasing regularisation. Duality gap: 2.894e+01, tolerance: 9.792e+00\n",
      "  model = cd_fast.enet_coordinate_descent(\n",
      "/opt/homebrew/lib/python3.10/site-packages/sklearn/linear_model/_coordinate_descent.py:631: ConvergenceWarning: Objective did not converge. You might want to increase the number of iterations, check the scale of the features or consider increasing regularisation. Duality gap: 2.899e+01, tolerance: 9.996e+00\n",
      "  model = cd_fast.enet_coordinate_descent(\n",
      "/opt/homebrew/lib/python3.10/site-packages/sklearn/linear_model/_coordinate_descent.py:631: ConvergenceWarning: Objective did not converge. You might want to increase the number of iterations, check the scale of the features or consider increasing regularisation. Duality gap: 4.515e+01, tolerance: 9.951e+00\n",
      "  model = cd_fast.enet_coordinate_descent(\n",
      "/opt/homebrew/lib/python3.10/site-packages/sklearn/linear_model/_coordinate_descent.py:631: ConvergenceWarning: Objective did not converge. You might want to increase the number of iterations, check the scale of the features or consider increasing regularisation. Duality gap: 2.464e+01, tolerance: 1.016e+01\n",
      "  model = cd_fast.enet_coordinate_descent(\n",
      "/opt/homebrew/lib/python3.10/site-packages/sklearn/linear_model/_coordinate_descent.py:631: ConvergenceWarning: Objective did not converge. You might want to increase the number of iterations, check the scale of the features or consider increasing regularisation. Duality gap: 4.972e+01, tolerance: 9.309e+00\n",
      "  model = cd_fast.enet_coordinate_descent(\n",
      "/opt/homebrew/lib/python3.10/site-packages/sklearn/linear_model/_coordinate_descent.py:631: ConvergenceWarning: Objective did not converge. You might want to increase the number of iterations, check the scale of the features or consider increasing regularisation. Duality gap: 3.405e+01, tolerance: 9.792e+00\n",
      "  model = cd_fast.enet_coordinate_descent(\n",
      "/opt/homebrew/lib/python3.10/site-packages/sklearn/linear_model/_coordinate_descent.py:631: ConvergenceWarning: Objective did not converge. You might want to increase the number of iterations, check the scale of the features or consider increasing regularisation. Duality gap: 2.909e+01, tolerance: 9.996e+00\n",
      "  model = cd_fast.enet_coordinate_descent(\n",
      "/opt/homebrew/lib/python3.10/site-packages/sklearn/linear_model/_coordinate_descent.py:631: ConvergenceWarning: Objective did not converge. You might want to increase the number of iterations, check the scale of the features or consider increasing regularisation. Duality gap: 4.268e+01, tolerance: 9.951e+00\n",
      "  model = cd_fast.enet_coordinate_descent(\n",
      "/opt/homebrew/lib/python3.10/site-packages/sklearn/linear_model/_coordinate_descent.py:631: ConvergenceWarning: Objective did not converge. You might want to increase the number of iterations, check the scale of the features or consider increasing regularisation. Duality gap: 1.331e+01, tolerance: 1.230e+01\n",
      "  model = cd_fast.enet_coordinate_descent(\n"
     ]
    },
    {
     "data": {
      "text/html": [
       "<style>#sk-container-id-25 {color: black;background-color: white;}#sk-container-id-25 pre{padding: 0;}#sk-container-id-25 div.sk-toggleable {background-color: white;}#sk-container-id-25 label.sk-toggleable__label {cursor: pointer;display: block;width: 100%;margin-bottom: 0;padding: 0.3em;box-sizing: border-box;text-align: center;}#sk-container-id-25 label.sk-toggleable__label-arrow:before {content: \"▸\";float: left;margin-right: 0.25em;color: #696969;}#sk-container-id-25 label.sk-toggleable__label-arrow:hover:before {color: black;}#sk-container-id-25 div.sk-estimator:hover label.sk-toggleable__label-arrow:before {color: black;}#sk-container-id-25 div.sk-toggleable__content {max-height: 0;max-width: 0;overflow: hidden;text-align: left;background-color: #f0f8ff;}#sk-container-id-25 div.sk-toggleable__content pre {margin: 0.2em;color: black;border-radius: 0.25em;background-color: #f0f8ff;}#sk-container-id-25 input.sk-toggleable__control:checked~div.sk-toggleable__content {max-height: 200px;max-width: 100%;overflow: auto;}#sk-container-id-25 input.sk-toggleable__control:checked~label.sk-toggleable__label-arrow:before {content: \"▾\";}#sk-container-id-25 div.sk-estimator input.sk-toggleable__control:checked~label.sk-toggleable__label {background-color: #d4ebff;}#sk-container-id-25 div.sk-label input.sk-toggleable__control:checked~label.sk-toggleable__label {background-color: #d4ebff;}#sk-container-id-25 input.sk-hidden--visually {border: 0;clip: rect(1px 1px 1px 1px);clip: rect(1px, 1px, 1px, 1px);height: 1px;margin: -1px;overflow: hidden;padding: 0;position: absolute;width: 1px;}#sk-container-id-25 div.sk-estimator {font-family: monospace;background-color: #f0f8ff;border: 1px dotted black;border-radius: 0.25em;box-sizing: border-box;margin-bottom: 0.5em;}#sk-container-id-25 div.sk-estimator:hover {background-color: #d4ebff;}#sk-container-id-25 div.sk-parallel-item::after {content: \"\";width: 100%;border-bottom: 1px solid gray;flex-grow: 1;}#sk-container-id-25 div.sk-label:hover label.sk-toggleable__label {background-color: #d4ebff;}#sk-container-id-25 div.sk-serial::before {content: \"\";position: absolute;border-left: 1px solid gray;box-sizing: border-box;top: 0;bottom: 0;left: 50%;z-index: 0;}#sk-container-id-25 div.sk-serial {display: flex;flex-direction: column;align-items: center;background-color: white;padding-right: 0.2em;padding-left: 0.2em;position: relative;}#sk-container-id-25 div.sk-item {position: relative;z-index: 1;}#sk-container-id-25 div.sk-parallel {display: flex;align-items: stretch;justify-content: center;background-color: white;position: relative;}#sk-container-id-25 div.sk-item::before, #sk-container-id-25 div.sk-parallel-item::before {content: \"\";position: absolute;border-left: 1px solid gray;box-sizing: border-box;top: 0;bottom: 0;left: 50%;z-index: -1;}#sk-container-id-25 div.sk-parallel-item {display: flex;flex-direction: column;z-index: 1;position: relative;background-color: white;}#sk-container-id-25 div.sk-parallel-item:first-child::after {align-self: flex-end;width: 50%;}#sk-container-id-25 div.sk-parallel-item:last-child::after {align-self: flex-start;width: 50%;}#sk-container-id-25 div.sk-parallel-item:only-child::after {width: 0;}#sk-container-id-25 div.sk-dashed-wrapped {border: 1px dashed gray;margin: 0 0.4em 0.5em 0.4em;box-sizing: border-box;padding-bottom: 0.4em;background-color: white;}#sk-container-id-25 div.sk-label label {font-family: monospace;font-weight: bold;display: inline-block;line-height: 1.2em;}#sk-container-id-25 div.sk-label-container {text-align: center;}#sk-container-id-25 div.sk-container {/* jupyter's `normalize.less` sets `[hidden] { display: none; }` but bootstrap.min.css set `[hidden] { display: none !important; }` so we also need the `!important` here to be able to override the default hidden behavior on the sphinx rendered scikit-learn.org. See: https://github.com/scikit-learn/scikit-learn/issues/21755 */display: inline-block !important;position: relative;}#sk-container-id-25 div.sk-text-repr-fallback {display: none;}</style><div id=\"sk-container-id-25\" class=\"sk-top-container\"><div class=\"sk-text-repr-fallback\"><pre>GridSearchCV(cv=KFold(n_splits=5, random_state=42, shuffle=True),\n",
       "             estimator=Lasso(),\n",
       "             param_grid={&#x27;alpha&#x27;: [0.001, 0.01, 0.1, 1, 10, 100, 1000],\n",
       "                         &#x27;max_iter&#x27;: [10, 25, 50, 75, 100, 1000]})</pre><b>In a Jupyter environment, please rerun this cell to show the HTML representation or trust the notebook. <br />On GitHub, the HTML representation is unable to render, please try loading this page with nbviewer.org.</b></div><div class=\"sk-container\" hidden><div class=\"sk-item sk-dashed-wrapped\"><div class=\"sk-label-container\"><div class=\"sk-label sk-toggleable\"><input class=\"sk-toggleable__control sk-hidden--visually\" id=\"sk-estimator-id-73\" type=\"checkbox\" ><label for=\"sk-estimator-id-73\" class=\"sk-toggleable__label sk-toggleable__label-arrow\">GridSearchCV</label><div class=\"sk-toggleable__content\"><pre>GridSearchCV(cv=KFold(n_splits=5, random_state=42, shuffle=True),\n",
       "             estimator=Lasso(),\n",
       "             param_grid={&#x27;alpha&#x27;: [0.001, 0.01, 0.1, 1, 10, 100, 1000],\n",
       "                         &#x27;max_iter&#x27;: [10, 25, 50, 75, 100, 1000]})</pre></div></div></div><div class=\"sk-parallel\"><div class=\"sk-parallel-item\"><div class=\"sk-item\"><div class=\"sk-label-container\"><div class=\"sk-label sk-toggleable\"><input class=\"sk-toggleable__control sk-hidden--visually\" id=\"sk-estimator-id-74\" type=\"checkbox\" ><label for=\"sk-estimator-id-74\" class=\"sk-toggleable__label sk-toggleable__label-arrow\">estimator: Lasso</label><div class=\"sk-toggleable__content\"><pre>Lasso()</pre></div></div></div><div class=\"sk-serial\"><div class=\"sk-item\"><div class=\"sk-estimator sk-toggleable\"><input class=\"sk-toggleable__control sk-hidden--visually\" id=\"sk-estimator-id-75\" type=\"checkbox\" ><label for=\"sk-estimator-id-75\" class=\"sk-toggleable__label sk-toggleable__label-arrow\">Lasso</label><div class=\"sk-toggleable__content\"><pre>Lasso()</pre></div></div></div></div></div></div></div></div></div></div>"
      ],
      "text/plain": [
       "GridSearchCV(cv=KFold(n_splits=5, random_state=42, shuffle=True),\n",
       "             estimator=Lasso(),\n",
       "             param_grid={'alpha': [0.001, 0.01, 0.1, 1, 10, 100, 1000],\n",
       "                         'max_iter': [10, 25, 50, 75, 100, 1000]})"
      ]
     },
     "execution_count": 341,
     "metadata": {},
     "output_type": "execute_result"
    }
   ],
   "source": [
    "lasso_model = GridSearchCV(lasso, param_grid_lasso, cv=kf)\n",
    "\n",
    "lasso_model.fit(X_train, y_train)"
   ]
  },
  {
   "attachments": {},
   "cell_type": "markdown",
   "metadata": {},
   "source": [
    "Let's print the best alpha value."
   ]
  },
  {
   "cell_type": "code",
   "execution_count": 342,
   "metadata": {},
   "outputs": [
    {
     "name": "stdout",
     "output_type": "stream",
     "text": [
      "{'alpha': 0.01, 'max_iter': 50}\n"
     ]
    }
   ],
   "source": [
    "print(lasso_model.best_params_)"
   ]
  },
  {
   "attachments": {},
   "cell_type": "markdown",
   "metadata": {},
   "source": [
    "### 3.1.1 Lasso Model Evaluation"
   ]
  },
  {
   "attachments": {},
   "cell_type": "markdown",
   "metadata": {},
   "source": [
    "Let's see how our Lasso model performs on the training and test set."
   ]
  },
  {
   "cell_type": "code",
   "execution_count": 343,
   "metadata": {},
   "outputs": [
    {
     "name": "stdout",
     "output_type": "stream",
     "text": [
      "Training set score: 0.75\n",
      "Test set score: 0.73\n"
     ]
    }
   ],
   "source": [
    "print(\"Training set score: {:.2f}\".format(lasso_model.score(X_train, y_train)))\n",
    "print(\"Test set score: {:.2f}\".format(lasso_model.score(X_test, y_test)))"
   ]
  },
  {
   "attachments": {},
   "cell_type": "markdown",
   "metadata": {},
   "source": [
    "Let's look at the top features."
   ]
  },
  {
   "cell_type": "code",
   "execution_count": 344,
   "metadata": {},
   "outputs": [
    {
     "data": {
      "text/html": [
       "<div>\n",
       "<style scoped>\n",
       "    .dataframe tbody tr th:only-of-type {\n",
       "        vertical-align: middle;\n",
       "    }\n",
       "\n",
       "    .dataframe tbody tr th {\n",
       "        vertical-align: top;\n",
       "    }\n",
       "\n",
       "    .dataframe thead th {\n",
       "        text-align: right;\n",
       "    }\n",
       "</style>\n",
       "<table border=\"1\" class=\"dataframe\">\n",
       "  <thead>\n",
       "    <tr style=\"text-align: right;\">\n",
       "      <th></th>\n",
       "      <th>coef</th>\n",
       "    </tr>\n",
       "  </thead>\n",
       "  <tbody>\n",
       "    <tr>\n",
       "      <th>Asian</th>\n",
       "      <td>13.479807</td>\n",
       "    </tr>\n",
       "    <tr>\n",
       "      <th>Hispanic</th>\n",
       "      <td>7.722445</td>\n",
       "    </tr>\n",
       "    <tr>\n",
       "      <th>fte_staff</th>\n",
       "      <td>7.173833</td>\n",
       "    </tr>\n",
       "    <tr>\n",
       "      <th>% Graduated</th>\n",
       "      <td>4.327504</td>\n",
       "    </tr>\n",
       "    <tr>\n",
       "      <th>females_staff</th>\n",
       "      <td>2.824928</td>\n",
       "    </tr>\n",
       "    <tr>\n",
       "      <th>Multi-Race, Non-Hispanic</th>\n",
       "      <td>2.506272</td>\n",
       "    </tr>\n",
       "    <tr>\n",
       "      <th>avg_salary_teachers</th>\n",
       "      <td>2.117763</td>\n",
       "    </tr>\n",
       "    <tr>\n",
       "      <th>pp_total_raw_MA</th>\n",
       "      <td>1.610514</td>\n",
       "    </tr>\n",
       "    <tr>\n",
       "      <th>white_staff</th>\n",
       "      <td>1.241590</td>\n",
       "    </tr>\n",
       "    <tr>\n",
       "      <th>ncesenroll</th>\n",
       "      <td>0.000000</td>\n",
       "    </tr>\n",
       "  </tbody>\n",
       "</table>\n",
       "</div>"
      ],
      "text/plain": [
       "                               coef\n",
       "Asian                     13.479807\n",
       "Hispanic                   7.722445\n",
       "fte_staff                  7.173833\n",
       "% Graduated                4.327504\n",
       "females_staff              2.824928\n",
       "Multi-Race, Non-Hispanic   2.506272\n",
       "avg_salary_teachers        2.117763\n",
       "pp_total_raw_MA            1.610514\n",
       "white_staff                1.241590\n",
       "ncesenroll                 0.000000"
      ]
     },
     "execution_count": 344,
     "metadata": {},
     "output_type": "execute_result"
    }
   ],
   "source": [
    "# Get model's top features\n",
    "coefs_lasso = pd.DataFrame(lasso_model.best_estimator_.coef_, index=X.columns, columns=[\"coef\"])\n",
    "coefs_lasso.sort_values(by=\"coef\", ascending=False).head(10)"
   ]
  },
  {
   "attachments": {},
   "cell_type": "markdown",
   "metadata": {},
   "source": [
    "Let's evaluate the mean squared error and r-squared value for our Lasso model."
   ]
  },
  {
   "cell_type": "code",
   "execution_count": 345,
   "metadata": {},
   "outputs": [
    {
     "name": "stdout",
     "output_type": "stream",
     "text": [
      "MSE: 27.58828154236\n",
      "RMSE: 5.252454811072629\n",
      "R^2: 0.7277915357441027\n"
     ]
    }
   ],
   "source": [
    "y_pred_lasso = lasso_model.predict(X_test)\n",
    "mse_lasso = mean_squared_error(y_test, y_pred_lasso)\n",
    "rmse_lasso = np.sqrt(mse_lasso)\n",
    "r2_lasso = r2_score(y_test, y_pred_lasso)\n",
    "\n",
    "print('MSE:', mse_lasso)\n",
    "print('RMSE:', rmse_lasso)\n",
    "print('R^2:', r2_lasso)"
   ]
  },
  {
   "attachments": {},
   "cell_type": "markdown",
   "metadata": {},
   "source": [
    "## 3.1 Ridge Regression Model\n",
    "Let's compare our Lasso model with a Ridge Model."
   ]
  },
  {
   "attachments": {},
   "cell_type": "markdown",
   "metadata": {},
   "source": [
    "### 3.1.0 Ridge Model Creation"
   ]
  },
  {
   "cell_type": "code",
   "execution_count": 346,
   "metadata": {},
   "outputs": [],
   "source": [
    "ridge = Ridge()\n",
    "\n",
    "param_grid_ridge = {'alpha': [0.01, 0.1, 1.0, 10.0, 100.0]}"
   ]
  },
  {
   "attachments": {},
   "cell_type": "markdown",
   "metadata": {},
   "source": [
    "Let's use a GridSearchCV to find the best hyper params for our LR model."
   ]
  },
  {
   "cell_type": "code",
   "execution_count": 347,
   "metadata": {},
   "outputs": [
    {
     "data": {
      "text/html": [
       "<style>#sk-container-id-26 {color: black;background-color: white;}#sk-container-id-26 pre{padding: 0;}#sk-container-id-26 div.sk-toggleable {background-color: white;}#sk-container-id-26 label.sk-toggleable__label {cursor: pointer;display: block;width: 100%;margin-bottom: 0;padding: 0.3em;box-sizing: border-box;text-align: center;}#sk-container-id-26 label.sk-toggleable__label-arrow:before {content: \"▸\";float: left;margin-right: 0.25em;color: #696969;}#sk-container-id-26 label.sk-toggleable__label-arrow:hover:before {color: black;}#sk-container-id-26 div.sk-estimator:hover label.sk-toggleable__label-arrow:before {color: black;}#sk-container-id-26 div.sk-toggleable__content {max-height: 0;max-width: 0;overflow: hidden;text-align: left;background-color: #f0f8ff;}#sk-container-id-26 div.sk-toggleable__content pre {margin: 0.2em;color: black;border-radius: 0.25em;background-color: #f0f8ff;}#sk-container-id-26 input.sk-toggleable__control:checked~div.sk-toggleable__content {max-height: 200px;max-width: 100%;overflow: auto;}#sk-container-id-26 input.sk-toggleable__control:checked~label.sk-toggleable__label-arrow:before {content: \"▾\";}#sk-container-id-26 div.sk-estimator input.sk-toggleable__control:checked~label.sk-toggleable__label {background-color: #d4ebff;}#sk-container-id-26 div.sk-label input.sk-toggleable__control:checked~label.sk-toggleable__label {background-color: #d4ebff;}#sk-container-id-26 input.sk-hidden--visually {border: 0;clip: rect(1px 1px 1px 1px);clip: rect(1px, 1px, 1px, 1px);height: 1px;margin: -1px;overflow: hidden;padding: 0;position: absolute;width: 1px;}#sk-container-id-26 div.sk-estimator {font-family: monospace;background-color: #f0f8ff;border: 1px dotted black;border-radius: 0.25em;box-sizing: border-box;margin-bottom: 0.5em;}#sk-container-id-26 div.sk-estimator:hover {background-color: #d4ebff;}#sk-container-id-26 div.sk-parallel-item::after {content: \"\";width: 100%;border-bottom: 1px solid gray;flex-grow: 1;}#sk-container-id-26 div.sk-label:hover label.sk-toggleable__label {background-color: #d4ebff;}#sk-container-id-26 div.sk-serial::before {content: \"\";position: absolute;border-left: 1px solid gray;box-sizing: border-box;top: 0;bottom: 0;left: 50%;z-index: 0;}#sk-container-id-26 div.sk-serial {display: flex;flex-direction: column;align-items: center;background-color: white;padding-right: 0.2em;padding-left: 0.2em;position: relative;}#sk-container-id-26 div.sk-item {position: relative;z-index: 1;}#sk-container-id-26 div.sk-parallel {display: flex;align-items: stretch;justify-content: center;background-color: white;position: relative;}#sk-container-id-26 div.sk-item::before, #sk-container-id-26 div.sk-parallel-item::before {content: \"\";position: absolute;border-left: 1px solid gray;box-sizing: border-box;top: 0;bottom: 0;left: 50%;z-index: -1;}#sk-container-id-26 div.sk-parallel-item {display: flex;flex-direction: column;z-index: 1;position: relative;background-color: white;}#sk-container-id-26 div.sk-parallel-item:first-child::after {align-self: flex-end;width: 50%;}#sk-container-id-26 div.sk-parallel-item:last-child::after {align-self: flex-start;width: 50%;}#sk-container-id-26 div.sk-parallel-item:only-child::after {width: 0;}#sk-container-id-26 div.sk-dashed-wrapped {border: 1px dashed gray;margin: 0 0.4em 0.5em 0.4em;box-sizing: border-box;padding-bottom: 0.4em;background-color: white;}#sk-container-id-26 div.sk-label label {font-family: monospace;font-weight: bold;display: inline-block;line-height: 1.2em;}#sk-container-id-26 div.sk-label-container {text-align: center;}#sk-container-id-26 div.sk-container {/* jupyter's `normalize.less` sets `[hidden] { display: none; }` but bootstrap.min.css set `[hidden] { display: none !important; }` so we also need the `!important` here to be able to override the default hidden behavior on the sphinx rendered scikit-learn.org. See: https://github.com/scikit-learn/scikit-learn/issues/21755 */display: inline-block !important;position: relative;}#sk-container-id-26 div.sk-text-repr-fallback {display: none;}</style><div id=\"sk-container-id-26\" class=\"sk-top-container\"><div class=\"sk-text-repr-fallback\"><pre>GridSearchCV(cv=KFold(n_splits=5, random_state=42, shuffle=True),\n",
       "             estimator=Ridge(),\n",
       "             param_grid={&#x27;alpha&#x27;: [0.01, 0.1, 1.0, 10.0, 100.0]})</pre><b>In a Jupyter environment, please rerun this cell to show the HTML representation or trust the notebook. <br />On GitHub, the HTML representation is unable to render, please try loading this page with nbviewer.org.</b></div><div class=\"sk-container\" hidden><div class=\"sk-item sk-dashed-wrapped\"><div class=\"sk-label-container\"><div class=\"sk-label sk-toggleable\"><input class=\"sk-toggleable__control sk-hidden--visually\" id=\"sk-estimator-id-76\" type=\"checkbox\" ><label for=\"sk-estimator-id-76\" class=\"sk-toggleable__label sk-toggleable__label-arrow\">GridSearchCV</label><div class=\"sk-toggleable__content\"><pre>GridSearchCV(cv=KFold(n_splits=5, random_state=42, shuffle=True),\n",
       "             estimator=Ridge(),\n",
       "             param_grid={&#x27;alpha&#x27;: [0.01, 0.1, 1.0, 10.0, 100.0]})</pre></div></div></div><div class=\"sk-parallel\"><div class=\"sk-parallel-item\"><div class=\"sk-item\"><div class=\"sk-label-container\"><div class=\"sk-label sk-toggleable\"><input class=\"sk-toggleable__control sk-hidden--visually\" id=\"sk-estimator-id-77\" type=\"checkbox\" ><label for=\"sk-estimator-id-77\" class=\"sk-toggleable__label sk-toggleable__label-arrow\">estimator: Ridge</label><div class=\"sk-toggleable__content\"><pre>Ridge()</pre></div></div></div><div class=\"sk-serial\"><div class=\"sk-item\"><div class=\"sk-estimator sk-toggleable\"><input class=\"sk-toggleable__control sk-hidden--visually\" id=\"sk-estimator-id-78\" type=\"checkbox\" ><label for=\"sk-estimator-id-78\" class=\"sk-toggleable__label sk-toggleable__label-arrow\">Ridge</label><div class=\"sk-toggleable__content\"><pre>Ridge()</pre></div></div></div></div></div></div></div></div></div></div>"
      ],
      "text/plain": [
       "GridSearchCV(cv=KFold(n_splits=5, random_state=42, shuffle=True),\n",
       "             estimator=Ridge(),\n",
       "             param_grid={'alpha': [0.01, 0.1, 1.0, 10.0, 100.0]})"
      ]
     },
     "execution_count": 347,
     "metadata": {},
     "output_type": "execute_result"
    }
   ],
   "source": [
    "ridge_model = GridSearchCV(ridge, param_grid_ridge, cv=kf)\n",
    "\n",
    "ridge_model.fit(X_train, y_train)"
   ]
  },
  {
   "attachments": {},
   "cell_type": "markdown",
   "metadata": {},
   "source": [
    "Let's inspect the best hyper params and corresponding score."
   ]
  },
  {
   "cell_type": "code",
   "execution_count": 348,
   "metadata": {},
   "outputs": [
    {
     "name": "stdout",
     "output_type": "stream",
     "text": [
      "Best hyperparameters:  {'alpha': 1.0}\n",
      "Best accuracy score:  0.7252196287353905\n"
     ]
    }
   ],
   "source": [
    "print(\"Best hyperparameters: \", ridge_model.best_params_)\n",
    "print(\"Best accuracy score: \", ridge_model.best_score_)"
   ]
  },
  {
   "attachments": {},
   "cell_type": "markdown",
   "metadata": {},
   "source": [
    "### 3.1.1 Ridge Model Evaluation"
   ]
  },
  {
   "attachments": {},
   "cell_type": "markdown",
   "metadata": {},
   "source": [
    "Let's test the model on training and test data."
   ]
  },
  {
   "cell_type": "code",
   "execution_count": 349,
   "metadata": {},
   "outputs": [
    {
     "name": "stdout",
     "output_type": "stream",
     "text": [
      "Training set score: 0.75\n",
      "Test set score: 0.73\n"
     ]
    }
   ],
   "source": [
    "print(\"Training set score: {:.2f}\".format(ridge_model.score(X_train, y_train)))\n",
    "print(\"Test set score: {:.2f}\".format(ridge_model.score(X_test, y_test)))"
   ]
  },
  {
   "attachments": {},
   "cell_type": "markdown",
   "metadata": {},
   "source": [
    "Let's look at the top features."
   ]
  },
  {
   "cell_type": "code",
   "execution_count": 350,
   "metadata": {},
   "outputs": [
    {
     "data": {
      "text/html": [
       "<div>\n",
       "<style scoped>\n",
       "    .dataframe tbody tr th:only-of-type {\n",
       "        vertical-align: middle;\n",
       "    }\n",
       "\n",
       "    .dataframe tbody tr th {\n",
       "        vertical-align: top;\n",
       "    }\n",
       "\n",
       "    .dataframe thead th {\n",
       "        text-align: right;\n",
       "    }\n",
       "</style>\n",
       "<table border=\"1\" class=\"dataframe\">\n",
       "  <thead>\n",
       "    <tr style=\"text-align: right;\">\n",
       "      <th></th>\n",
       "      <th>coef</th>\n",
       "    </tr>\n",
       "  </thead>\n",
       "  <tbody>\n",
       "    <tr>\n",
       "      <th>Asian</th>\n",
       "      <td>10.714379</td>\n",
       "    </tr>\n",
       "    <tr>\n",
       "      <th>fte_staff</th>\n",
       "      <td>5.895303</td>\n",
       "    </tr>\n",
       "    <tr>\n",
       "      <th>% Graduated</th>\n",
       "      <td>5.285671</td>\n",
       "    </tr>\n",
       "    <tr>\n",
       "      <th>Females</th>\n",
       "      <td>5.030708</td>\n",
       "    </tr>\n",
       "    <tr>\n",
       "      <th>avg_salary_teachers</th>\n",
       "      <td>3.315996</td>\n",
       "    </tr>\n",
       "    <tr>\n",
       "      <th>pp_fed_raw_MA</th>\n",
       "      <td>3.117219</td>\n",
       "    </tr>\n",
       "    <tr>\n",
       "      <th>Hispanic</th>\n",
       "      <td>3.053644</td>\n",
       "    </tr>\n",
       "    <tr>\n",
       "      <th>schoolstloc_raw_MA</th>\n",
       "      <td>2.247147</td>\n",
       "    </tr>\n",
       "    <tr>\n",
       "      <th>native_american_staff</th>\n",
       "      <td>2.062131</td>\n",
       "    </tr>\n",
       "    <tr>\n",
       "      <th>females_staff</th>\n",
       "      <td>1.976519</td>\n",
       "    </tr>\n",
       "  </tbody>\n",
       "</table>\n",
       "</div>"
      ],
      "text/plain": [
       "                            coef\n",
       "Asian                  10.714379\n",
       "fte_staff               5.895303\n",
       "% Graduated             5.285671\n",
       "Females                 5.030708\n",
       "avg_salary_teachers     3.315996\n",
       "pp_fed_raw_MA           3.117219\n",
       "Hispanic                3.053644\n",
       "schoolstloc_raw_MA      2.247147\n",
       "native_american_staff   2.062131\n",
       "females_staff           1.976519"
      ]
     },
     "execution_count": 350,
     "metadata": {},
     "output_type": "execute_result"
    }
   ],
   "source": [
    "# Get model's top features\n",
    "coefs_ridge = pd.DataFrame(ridge_model.best_estimator_.coef_, index=X.columns, columns=[\"coef\"])\n",
    "coefs_ridge.sort_values(by=\"coef\", ascending=False).head(10)"
   ]
  },
  {
   "attachments": {},
   "cell_type": "markdown",
   "metadata": {},
   "source": [
    "Let's evaluate the mean squared error and r-squared value for our Ridge model."
   ]
  },
  {
   "cell_type": "code",
   "execution_count": 351,
   "metadata": {},
   "outputs": [
    {
     "name": "stdout",
     "output_type": "stream",
     "text": [
      "MSE: 27.35194812097305\n",
      "RMSE: 5.229908997389252\n",
      "R^2: 0.7301233938407843\n"
     ]
    }
   ],
   "source": [
    "y_pred_ridge = ridge_model.predict(X_test)\n",
    "mse_ridge = mean_squared_error(y_test, y_pred_ridge)\n",
    "rmse_ridge = np.sqrt(mse_ridge)\n",
    "r2_ridge = r2_score(y_test, y_pred_ridge)\n",
    "\n",
    "print('MSE:', mse_ridge)\n",
    "print('RMSE:', rmse_ridge)\n",
    "print('R^2:', r2_ridge)"
   ]
  },
  {
   "attachments": {},
   "cell_type": "markdown",
   "metadata": {},
   "source": [
    "Overall, we can see our Ridge and Lasso models performed extremely similarly. The coefficients in the Ridge model are a bit more evenly dispersed."
   ]
  }
 ],
 "metadata": {
  "kernelspec": {
   "display_name": "Python 3",
   "language": "python",
   "name": "python3"
  },
  "language_info": {
   "codemirror_mode": {
    "name": "ipython",
    "version": 3
   },
   "file_extension": ".py",
   "mimetype": "text/x-python",
   "name": "python",
   "nbconvert_exporter": "python",
   "pygments_lexer": "ipython3",
   "version": "3.10.9"
  },
  "orig_nbformat": 4
 },
 "nbformat": 4,
 "nbformat_minor": 2
}
