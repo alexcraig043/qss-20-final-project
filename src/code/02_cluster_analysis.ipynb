{
 "cells": [
  {
   "cell_type": "code",
   "execution_count": 1,
   "metadata": {},
   "outputs": [],
   "source": [
    "import pandas as pd\n",
    "import matplotlib.pyplot as plt\n",
    "import numpy as np\n",
    "import re"
   ]
  },
  {
   "cell_type": "code",
   "execution_count": 2,
   "metadata": {},
   "outputs": [
    {
     "data": {
      "text/html": [
       "<div>\n",
       "<style scoped>\n",
       "    .dataframe tbody tr th:only-of-type {\n",
       "        vertical-align: middle;\n",
       "    }\n",
       "\n",
       "    .dataframe tbody tr th {\n",
       "        vertical-align: top;\n",
       "    }\n",
       "\n",
       "    .dataframe thead th {\n",
       "        text-align: right;\n",
       "    }\n",
       "</style>\n",
       "<table border=\"1\" class=\"dataframe\">\n",
       "  <thead>\n",
       "    <tr style=\"text-align: right;\">\n",
       "      <th></th>\n",
       "      <th>distname</th>\n",
       "      <th>schoolname</th>\n",
       "      <th>flag_nerds</th>\n",
       "      <th>flag_f33</th>\n",
       "      <th>ncesenroll</th>\n",
       "      <th>gradespan</th>\n",
       "      <th>pp_stloc_raw_MA</th>\n",
       "      <th>pp_fed_raw_MA</th>\n",
       "      <th>pp_total_raw_MA</th>\n",
       "      <th>schoolstloc_raw_MA</th>\n",
       "      <th>...</th>\n",
       "      <th>Females (%)</th>\n",
       "      <th>Males (%)</th>\n",
       "      <th>FTE Count</th>\n",
       "      <th>student_teacher_ratio</th>\n",
       "      <th>nan_flag</th>\n",
       "      <th>District Name</th>\n",
       "      <th>District Code</th>\n",
       "      <th>Salary Totals</th>\n",
       "      <th>Average Salary</th>\n",
       "      <th>FTE Count_teacher_salary</th>\n",
       "    </tr>\n",
       "  </thead>\n",
       "  <tbody>\n",
       "    <tr>\n",
       "      <th>0</th>\n",
       "      <td>Abington</td>\n",
       "      <td>Abington High</td>\n",
       "      <td>0</td>\n",
       "      <td>0</td>\n",
       "      <td>545.0</td>\n",
       "      <td>09-12</td>\n",
       "      <td>14880.475672</td>\n",
       "      <td>20.812074</td>\n",
       "      <td>14901.287746</td>\n",
       "      <td>8.052652e+06</td>\n",
       "      <td>...</td>\n",
       "      <td>72.5</td>\n",
       "      <td>27.5</td>\n",
       "      <td>62.4</td>\n",
       "      <td>14.4</td>\n",
       "      <td>False</td>\n",
       "      <td>Abington</td>\n",
       "      <td>10000.0</td>\n",
       "      <td>$11,469,788</td>\n",
       "      <td>$93,861</td>\n",
       "      <td>122.2</td>\n",
       "    </tr>\n",
       "    <tr>\n",
       "      <th>1</th>\n",
       "      <td>Abington</td>\n",
       "      <td>Abington Middle School</td>\n",
       "      <td>0</td>\n",
       "      <td>0</td>\n",
       "      <td>672.0</td>\n",
       "      <td>05-08</td>\n",
       "      <td>13057.825084</td>\n",
       "      <td>83.417661</td>\n",
       "      <td>13141.242745</td>\n",
       "      <td>8.839857e+06</td>\n",
       "      <td>...</td>\n",
       "      <td>77.3</td>\n",
       "      <td>22.7</td>\n",
       "      <td>73.7</td>\n",
       "      <td>17.6</td>\n",
       "      <td>False</td>\n",
       "      <td>Abington</td>\n",
       "      <td>10000.0</td>\n",
       "      <td>$11,469,788</td>\n",
       "      <td>$93,861</td>\n",
       "      <td>122.2</td>\n",
       "    </tr>\n",
       "    <tr>\n",
       "      <th>2</th>\n",
       "      <td>Abington</td>\n",
       "      <td>Woodsdale Elementary School</td>\n",
       "      <td>0</td>\n",
       "      <td>0</td>\n",
       "      <td>294.0</td>\n",
       "      <td>03-04</td>\n",
       "      <td>13201.700857</td>\n",
       "      <td>499.583587</td>\n",
       "      <td>13701.284443</td>\n",
       "      <td>3.841768e+06</td>\n",
       "      <td>...</td>\n",
       "      <td>88.8</td>\n",
       "      <td>11.2</td>\n",
       "      <td>39.4</td>\n",
       "      <td>18.0</td>\n",
       "      <td>False</td>\n",
       "      <td>Abington</td>\n",
       "      <td>10000.0</td>\n",
       "      <td>$11,469,788</td>\n",
       "      <td>$93,861</td>\n",
       "      <td>122.2</td>\n",
       "    </tr>\n",
       "    <tr>\n",
       "      <th>3</th>\n",
       "      <td>Acton-Boxborough</td>\n",
       "      <td>Acton-Boxborough Regional High</td>\n",
       "      <td>0</td>\n",
       "      <td>0</td>\n",
       "      <td>1837.0</td>\n",
       "      <td>09-12</td>\n",
       "      <td>14634.333856</td>\n",
       "      <td>191.007988</td>\n",
       "      <td>14825.341844</td>\n",
       "      <td>2.676628e+07</td>\n",
       "      <td>...</td>\n",
       "      <td>76.1</td>\n",
       "      <td>23.9</td>\n",
       "      <td>195.0</td>\n",
       "      <td>14.7</td>\n",
       "      <td>False</td>\n",
       "      <td>Acton-Boxborough</td>\n",
       "      <td>6000000.0</td>\n",
       "      <td>$32,945,978</td>\n",
       "      <td>$86,677</td>\n",
       "      <td>380.1</td>\n",
       "    </tr>\n",
       "    <tr>\n",
       "      <th>4</th>\n",
       "      <td>Acton-Boxborough</td>\n",
       "      <td>Blanchard Memorial School</td>\n",
       "      <td>0</td>\n",
       "      <td>0</td>\n",
       "      <td>464.0</td>\n",
       "      <td>KG-06</td>\n",
       "      <td>16005.357328</td>\n",
       "      <td>289.306328</td>\n",
       "      <td>16294.663656</td>\n",
       "      <td>7.481971e+06</td>\n",
       "      <td>...</td>\n",
       "      <td>91.4</td>\n",
       "      <td>8.6</td>\n",
       "      <td>79.3</td>\n",
       "      <td>14.3</td>\n",
       "      <td>False</td>\n",
       "      <td>Acton-Boxborough</td>\n",
       "      <td>6000000.0</td>\n",
       "      <td>$32,945,978</td>\n",
       "      <td>$86,677</td>\n",
       "      <td>380.1</td>\n",
       "    </tr>\n",
       "  </tbody>\n",
       "</table>\n",
       "<p>5 rows × 73 columns</p>\n",
       "</div>"
      ],
      "text/plain": [
       "           distname                      schoolname  flag_nerds  flag_f33  \\\n",
       "0          Abington                   Abington High           0         0   \n",
       "1          Abington          Abington Middle School           0         0   \n",
       "2          Abington     Woodsdale Elementary School           0         0   \n",
       "3  Acton-Boxborough  Acton-Boxborough Regional High           0         0   \n",
       "4  Acton-Boxborough       Blanchard Memorial School           0         0   \n",
       "\n",
       "   ncesenroll gradespan  pp_stloc_raw_MA  pp_fed_raw_MA  pp_total_raw_MA  \\\n",
       "0       545.0     09-12     14880.475672      20.812074     14901.287746   \n",
       "1       672.0     05-08     13057.825084      83.417661     13141.242745   \n",
       "2       294.0     03-04     13201.700857     499.583587     13701.284443   \n",
       "3      1837.0     09-12     14634.333856     191.007988     14825.341844   \n",
       "4       464.0     KG-06     16005.357328     289.306328     16294.663656   \n",
       "\n",
       "   schoolstloc_raw_MA  ...  Females (%)  Males (%) FTE Count  \\\n",
       "0        8.052652e+06  ...         72.5       27.5      62.4   \n",
       "1        8.839857e+06  ...         77.3       22.7      73.7   \n",
       "2        3.841768e+06  ...         88.8       11.2      39.4   \n",
       "3        2.676628e+07  ...         76.1       23.9     195.0   \n",
       "4        7.481971e+06  ...         91.4        8.6      79.3   \n",
       "\n",
       "  student_teacher_ratio nan_flag     District Name  District Code  \\\n",
       "0                  14.4    False          Abington        10000.0   \n",
       "1                  17.6    False          Abington        10000.0   \n",
       "2                  18.0    False          Abington        10000.0   \n",
       "3                  14.7    False  Acton-Boxborough      6000000.0   \n",
       "4                  14.3    False  Acton-Boxborough      6000000.0   \n",
       "\n",
       "      Salary Totals  Average Salary  FTE Count_teacher_salary  \n",
       "0       $11,469,788         $93,861                     122.2  \n",
       "1       $11,469,788         $93,861                     122.2  \n",
       "2       $11,469,788         $93,861                     122.2  \n",
       "3       $32,945,978         $86,677                     380.1  \n",
       "4       $32,945,978         $86,677                     380.1  \n",
       "\n",
       "[5 rows x 73 columns]"
      ]
     },
     "execution_count": 2,
     "metadata": {},
     "output_type": "execute_result"
    }
   ],
   "source": [
    "master_df = pd.read_csv(\"../output/master_df.csv\")\n",
    "master_df.head()"
   ]
  },
  {
   "attachments": {},
   "cell_type": "markdown",
   "metadata": {},
   "source": [
    "## 2.1 Cluster Analysis - General Insight Extraction"
   ]
  },
  {
   "attachments": {},
   "cell_type": "markdown",
   "metadata": {},
   "source": [
    "### 2.1.1 KMeans - Economic and Race Features Only - 2 Clusters"
   ]
  },
  {
   "cell_type": "code",
   "execution_count": 39,
   "metadata": {},
   "outputs": [
    {
     "name": "stderr",
     "output_type": "stream",
     "text": [
      "/Library/Frameworks/Python.framework/Versions/3.11/lib/python3.11/site-packages/sklearn/cluster/_kmeans.py:870: FutureWarning: The default value of `n_init` will change from 10 to 'auto' in 1.4. Set the value of `n_init` explicitly to suppress the warning\n",
      "  warnings.warn(\n"
     ]
    },
    {
     "name": "stdout",
     "output_type": "stream",
     "text": [
      "0    1143\n",
      "1     310\n",
      "Name: cluster, dtype: int64\n",
      "         High Needs #.1  Economically Disadvantaged %  African American (%)  \\\n",
      "cluster                                                                       \n",
      "0             37.156255                     21.836833              0.775503   \n",
      "\n",
      "         Asian (%)  Hispanic (%)  White (%)  Native American (%)  \n",
      "cluster                                                           \n",
      "0         0.897463      1.353018  96.506474              0.05713  \n",
      "         High Needs #.1  Economically Disadvantaged %  African American (%)  \\\n",
      "cluster                                                                       \n",
      "1             78.487419                     63.215484              9.129032   \n",
      "\n",
      "         Asian (%)  Hispanic (%)  White (%)  Native American (%)  \n",
      "cluster                                                           \n",
      "1             1.97     10.294194  77.547742             0.199355  \n"
     ]
    }
   ],
   "source": [
    "# select the columns you want to calculate correlation with\n",
    "from sklearn.cluster import KMeans\n",
    "\n",
    "columns_of_interest = ['High Needs #.1', 'Economically Disadvantaged %', 'African American (%)', 'Asian (%)', 'Hispanic (%)', 'White (%)', 'Native American (%)']\n",
    "\n",
    "# calculate the correlations between the selected columns and the test performance column\n",
    "correlations = master_df[columns_of_interest]\n",
    "correlations = correlations.dropna()\n",
    "\n",
    "df_standardized = (correlations - correlations.mean()) / correlations.std()\n",
    "df_standardized\n",
    "\n",
    "# # fit the k-means algorithm on the standardized data\n",
    "kmeans = KMeans(n_clusters=2, random_state=0).fit(df_standardized)\n",
    "\n",
    "# get the cluster labels for each school\n",
    "cluster_labels = kmeans.labels_\n",
    "\n",
    "# add the cluster labels as a new column to the original dataframe\n",
    "correlations['cluster'] = cluster_labels\n",
    "\n",
    "# calculate the mean values of each feature for each cluster\n",
    "cluster_means = correlations.groupby('cluster').mean()\n",
    "\n",
    "# explanatory analysis\n",
    "print(correlations['cluster'].value_counts())\n",
    "\n",
    "# filter the dataframe to only include rows in cluster 0\n",
    "cluster_0 = correlations[correlations['cluster'] == 0]\n",
    "\n",
    "# group by the 'cluster' column and calculate the mean value of each column for the rows in cluster 0\n",
    "cluster_0_mean_values = cluster_0.groupby('cluster').mean()\n",
    "print(cluster_0_mean_values)\n",
    "\n",
    "# # group by the 'cluster' column and calculate the median value of each column for the rows in cluster 0\n",
    "# cluster_0_median_values = cluster_0.groupby('cluster').median()\n",
    "# print(cluster_0_median_values)\n",
    "\n",
    "# filter the dataframe to only include rows in cluster 1\n",
    "cluster_1 = correlations[correlations['cluster'] == 1]\n",
    "\n",
    "# group by the 'cluster' column and calculate the mean value of each column for the rows in cluster 0\n",
    "cluster_1_mean_values = cluster_1.groupby('cluster').mean()\n",
    "print(cluster_1_mean_values)\n",
    "\n",
    "# # group by the 'cluster' column and calculate the median value of each column for the rows in cluster 0\n",
    "# cluster_1__median_values = cluster_1.groupby('cluster').median()\n",
    "# print(cluster_1__median_values)"
   ]
  },
  {
   "attachments": {},
   "cell_type": "markdown",
   "metadata": {},
   "source": [
    "### 2.1.2 KMeans - Economic and Race Features Only - 3 Clusters"
   ]
  },
  {
   "cell_type": "code",
   "execution_count": 40,
   "metadata": {},
   "outputs": [
    {
     "name": "stderr",
     "output_type": "stream",
     "text": [
      "/Library/Frameworks/Python.framework/Versions/3.11/lib/python3.11/site-packages/sklearn/cluster/_kmeans.py:870: FutureWarning: The default value of `n_init` will change from 10 to 'auto' in 1.4. Set the value of `n_init` explicitly to suppress the warning\n",
      "  warnings.warn(\n"
     ]
    },
    {
     "name": "stdout",
     "output_type": "stream",
     "text": [
      "0    974\n",
      "2    364\n",
      "1    115\n",
      "Name: cluster, dtype: int64\n",
      "         High Needs #.1  Economically Disadvantaged %  African American (%)  \\\n",
      "cluster                                                                       \n",
      "0             32.685626                     17.544456              0.706674   \n",
      "\n",
      "         Asian (%)  Hispanic (%)  White (%)  Native American (%)  \n",
      "cluster                                                           \n",
      "0         0.896612      1.139528  96.816838              0.05616  \n",
      "         High Needs #.1  Economically Disadvantaged %  African American (%)  \\\n",
      "cluster                                                                       \n",
      "1             77.755652                     64.491304             17.170435   \n",
      "\n",
      "         Asian (%)  Hispanic (%)  White (%)  Native American (%)  \n",
      "cluster                                                           \n",
      "1         3.061739     15.717391   63.00087             0.310435  \n",
      "         High Needs #.1  Economically Disadvantaged %  African American (%)  \\\n",
      "cluster                                                                       \n",
      "2             71.491758                     55.086538              2.894231   \n",
      "\n",
      "         Asian (%)  Hispanic (%)  White (%)  Native American (%)  \n",
      "cluster                                                           \n",
      "2         1.129396      5.000824  90.115385             0.100824  \n"
     ]
    }
   ],
   "source": [
    "# select the columns you want to calculate correlation with\n",
    "from sklearn.cluster import KMeans\n",
    "\n",
    "columns_of_interest = ['High Needs #.1', 'Economically Disadvantaged %', 'African American (%)', 'Asian (%)', 'Hispanic (%)', 'White (%)', 'Native American (%)']\n",
    "\n",
    "# calculate the correlations between the selected columns and the test performance column\n",
    "correlations = master_df[columns_of_interest]\n",
    "correlations = correlations.dropna()\n",
    "\n",
    "df_standardized = (correlations - correlations.mean()) / correlations.std()\n",
    "df_standardized\n",
    "\n",
    "# # fit the k-means algorithm on the standardized data\n",
    "kmeans = KMeans(n_clusters=3, random_state=0).fit(df_standardized)\n",
    "\n",
    "# get the cluster labels for each school\n",
    "cluster_labels = kmeans.labels_\n",
    "\n",
    "# add the cluster labels as a new column to the original dataframe\n",
    "correlations['cluster'] = cluster_labels\n",
    "\n",
    "# calculate the mean values of each feature for each cluster\n",
    "cluster_means = correlations.groupby('cluster').mean()\n",
    "\n",
    "# explanatory analysis\n",
    "print(correlations['cluster'].value_counts())\n",
    "\n",
    "# filter the dataframe to only include rows in cluster 0\n",
    "cluster_0 = correlations[correlations['cluster'] == 0]\n",
    "\n",
    "# group by the 'cluster' column and calculate the mean value of each column for the rows in cluster 0\n",
    "cluster_0_mean_values = cluster_0.groupby('cluster').mean()\n",
    "print(cluster_0_mean_values)\n",
    "\n",
    "# filter the dataframe to only include rows in cluster 1\n",
    "cluster_1 = correlations[correlations['cluster'] == 1]\n",
    "\n",
    "# group by the 'cluster' column and calculate the mean value of each column for the rows in cluster 1\n",
    "cluster_1_mean_values = cluster_1.groupby('cluster').mean()\n",
    "print(cluster_1_mean_values)\n",
    "\n",
    "# filter the dataframe to only include rows in cluster 2\n",
    "cluster_2 = correlations[correlations['cluster'] == 2]\n",
    "\n",
    "# group by the 'cluster' column and calculate the mean value of each column for the rows in cluster 2\n",
    "cluster_2_mean_values = cluster_2.groupby('cluster').mean()\n",
    "print(cluster_2_mean_values)\n"
   ]
  },
  {
   "attachments": {},
   "cell_type": "markdown",
   "metadata": {},
   "source": [
    "### 2.1.3 KMeans - Economic and Race Features Only - 4 Clusters"
   ]
  },
  {
   "cell_type": "code",
   "execution_count": 42,
   "metadata": {},
   "outputs": [
    {
     "name": "stderr",
     "output_type": "stream",
     "text": [
      "/Library/Frameworks/Python.framework/Versions/3.11/lib/python3.11/site-packages/sklearn/cluster/_kmeans.py:870: FutureWarning: The default value of `n_init` will change from 10 to 'auto' in 1.4. Set the value of `n_init` explicitly to suppress the warning\n",
      "  warnings.warn(\n"
     ]
    },
    {
     "name": "stdout",
     "output_type": "stream",
     "text": [
      "0    968\n",
      "2    352\n",
      "1    105\n",
      "3     28\n",
      "Name: cluster, dtype: int64\n",
      "         High Needs #.1  Economically Disadvantaged %  African American (%)  \\\n",
      "cluster                                                                       \n",
      "0                 32.85                     17.701756              0.692459   \n",
      "\n",
      "         Asian (%)  Hispanic (%)  White (%)  Native American (%)  \n",
      "cluster                                                           \n",
      "0         0.883781      1.128926  96.881405             0.027583  \n",
      "         High Needs #.1  Economically Disadvantaged %  African American (%)  \\\n",
      "cluster                                                                       \n",
      "1             77.713333                      64.98381             17.850476   \n",
      "\n",
      "         Asian (%)  Hispanic (%)  White (%)  Native American (%)  \n",
      "cluster                                                           \n",
      "1          2.71619     16.198095   62.31619             0.160952  \n",
      "         High Needs #.1  Economically Disadvantaged %  African American (%)  \\\n",
      "cluster                                                                       \n",
      "2             71.984943                     55.565057               3.05142   \n",
      "\n",
      "         Asian (%)  Hispanic (%)  White (%)  Native American (%)  \n",
      "cluster                                                           \n",
      "2         1.265341      5.101136  89.791761             0.032386  \n",
      "         High Needs #.1  Economically Disadvantaged %  African American (%)  \\\n",
      "cluster                                                                       \n",
      "3             53.689286                          37.1              3.489286   \n",
      "\n",
      "         Asian (%)  Hispanic (%)  White (%)  Native American (%)  \n",
      "cluster                                                           \n",
      "3              1.8      5.303571  86.271429                2.575  \n"
     ]
    }
   ],
   "source": [
    "# select the columns you want to calculate correlation with\n",
    "from sklearn.cluster import KMeans\n",
    "\n",
    "columns_of_interest = ['High Needs #.1', 'Economically Disadvantaged %', 'African American (%)', 'Asian (%)', 'Hispanic (%)', 'White (%)', 'Native American (%)']\n",
    "\n",
    "# calculate the correlations between the selected columns and the test performance column\n",
    "correlations = master_df[columns_of_interest]\n",
    "correlations = correlations.dropna()\n",
    "\n",
    "df_standardized = (correlations - correlations.mean()) / correlations.std()\n",
    "df_standardized\n",
    "\n",
    "# # fit the k-means algorithm on the standardized data\n",
    "kmeans = KMeans(n_clusters=4, random_state=0).fit(df_standardized)\n",
    "\n",
    "# get the cluster labels for each school\n",
    "cluster_labels = kmeans.labels_\n",
    "\n",
    "# add the cluster labels as a new column to the original dataframe\n",
    "correlations['cluster'] = cluster_labels\n",
    "\n",
    "# calculate the mean values of each feature for each cluster\n",
    "cluster_means = correlations.groupby('cluster').mean()\n",
    "\n",
    "# explanatory analysis\n",
    "print(correlations['cluster'].value_counts())\n",
    "\n",
    "# filter the dataframe to only include rows in cluster 0\n",
    "cluster_0 = correlations[correlations['cluster'] == 0]\n",
    "\n",
    "# group by the 'cluster' column and calculate the mean value of each column for the rows in cluster 0\n",
    "cluster_0_mean_values = cluster_0.groupby('cluster').mean()\n",
    "print(cluster_0_mean_values)\n",
    "\n",
    "# filter the dataframe to only include rows in cluster 1\n",
    "cluster_1 = correlations[correlations['cluster'] == 1]\n",
    "\n",
    "# group by the 'cluster' column and calculate the mean value of each column for the rows in cluster 1\n",
    "cluster_1_mean_values = cluster_1.groupby('cluster').mean()\n",
    "print(cluster_1_mean_values)\n",
    "\n",
    "# filter the dataframe to only include rows in cluster 2\n",
    "cluster_2 = correlations[correlations['cluster'] == 2]\n",
    "\n",
    "# group by the 'cluster' column and calculate the mean value of each column for the rows in cluster 2\n",
    "cluster_2_mean_values = cluster_2.groupby('cluster').mean()\n",
    "print(cluster_2_mean_values)\n",
    "\n",
    "# filter the dataframe to only include rows in cluster 3\n",
    "cluster_3 = correlations[correlations['cluster'] == 3]\n",
    "\n",
    "# group by the 'cluster' column and calculate the mean value of each column for the rows in cluster 3\n",
    "cluster_3_mean_values = cluster_3.groupby('cluster').mean()\n",
    "print(cluster_3_mean_values)"
   ]
  },
  {
   "attachments": {},
   "cell_type": "markdown",
   "metadata": {},
   "source": [
    "### 2.1.4 KMeans - All Features - 3 Clusters"
   ]
  },
  {
   "cell_type": "code",
   "execution_count": 44,
   "metadata": {},
   "outputs": [
    {
     "name": "stderr",
     "output_type": "stream",
     "text": [
      "/Library/Frameworks/Python.framework/Versions/3.11/lib/python3.11/site-packages/sklearn/cluster/_kmeans.py:870: FutureWarning: The default value of `n_init` will change from 10 to 'auto' in 1.4. Set the value of `n_init` explicitly to suppress the warning\n",
      "  warnings.warn(\n"
     ]
    },
    {
     "name": "stdout",
     "output_type": "stream",
     "text": [
      "0    1025\n",
      "2     319\n",
      "1     107\n",
      "Name: cluster, dtype: int64\n",
      "         pp_stloc_raw_MA  pp_fed_raw_MA  First Language Not English %  \\\n",
      "cluster                                                                 \n",
      "0           16011.051963     353.991634                      9.356195   \n",
      "\n",
      "         student_teacher_ratio  High Needs #.1  Economically Disadvantaged %  \\\n",
      "cluster                                                                        \n",
      "0                    12.877854       33.834244                     18.865854   \n",
      "\n",
      "         African American (%)  Asian (%)  Hispanic (%)  White (%)  \\\n",
      "cluster                                                             \n",
      "0                    0.770927   0.888976      1.221561  96.657854   \n",
      "\n",
      "         Native American (%)  \n",
      "cluster                       \n",
      "0                   0.053366  \n",
      "         pp_stloc_raw_MA  pp_fed_raw_MA  First Language Not English %  \\\n",
      "cluster                                                                 \n",
      "1           20510.664092    1573.101015                     35.698131   \n",
      "\n",
      "         student_teacher_ratio  High Needs #.1  Economically Disadvantaged %  \\\n",
      "cluster                                                                        \n",
      "1                    11.341555       77.827103                     64.685047   \n",
      "\n",
      "         African American (%)  Asian (%)  Hispanic (%)  White (%)  \\\n",
      "cluster                                                             \n",
      "1                   17.741121   2.953271     15.223364  63.075701   \n",
      "\n",
      "         Native American (%)  \n",
      "cluster                       \n",
      "1                    0.27757  \n",
      "         pp_stloc_raw_MA  pp_fed_raw_MA  First Language Not English %  \\\n",
      "cluster                                                                 \n",
      "2           14400.744542     989.301647                     42.379624   \n",
      "\n",
      "         student_teacher_ratio  High Needs #.1  Economically Disadvantaged %  \\\n",
      "cluster                                                                        \n",
      "2                    13.705016       74.180878                     57.010658   \n",
      "\n",
      "         African American (%)  Asian (%)  Hispanic (%)  White (%)  \\\n",
      "cluster                                                             \n",
      "2                    3.173354   1.283072      5.708777  88.947962   \n",
      "\n",
      "         Native American (%)  \n",
      "cluster                       \n",
      "2                   0.133856  \n"
     ]
    }
   ],
   "source": [
    "# select the columns you want to calculate correlation with\n",
    "from sklearn.cluster import KMeans\n",
    "\n",
    "columns_of_interest = ['pp_stloc_raw_MA', 'pp_fed_raw_MA','First Language Not English %', 'student_teacher_ratio','High Needs #.1', 'Economically Disadvantaged %', 'African American (%)', 'Asian (%)', 'Hispanic (%)', 'White (%)', 'Native American (%)']\n",
    "\n",
    "# calculate the correlations between the selected columns and the test performance column\n",
    "correlations = master_df[columns_of_interest]\n",
    "correlations = correlations.dropna()\n",
    "\n",
    "df_standardized = (correlations - correlations.mean()) / correlations.std()\n",
    "df_standardized\n",
    "\n",
    "# # fit the k-means algorithm on the standardized data\n",
    "kmeans = KMeans(n_clusters=3, random_state=0).fit(df_standardized)\n",
    "\n",
    "# get the cluster labels for each school\n",
    "cluster_labels = kmeans.labels_\n",
    "\n",
    "# add the cluster labels as a new column to the original dataframe\n",
    "correlations['cluster'] = cluster_labels\n",
    "\n",
    "# calculate the mean values of each feature for each cluster\n",
    "cluster_means = correlations.groupby('cluster').mean()\n",
    "\n",
    "# explanatory analysis\n",
    "print(correlations['cluster'].value_counts())\n",
    "\n",
    "# filter the dataframe to only include rows in cluster 0\n",
    "cluster_0 = correlations[correlations['cluster'] == 0]\n",
    "\n",
    "# group by the 'cluster' column and calculate the mean value of each column for the rows in cluster 0\n",
    "cluster_0_mean_values = cluster_0.groupby('cluster').mean()\n",
    "print(cluster_0_mean_values)\n",
    "\n",
    "# filter the dataframe to only include rows in cluster 1\n",
    "cluster_1 = correlations[correlations['cluster'] == 1]\n",
    "\n",
    "# group by the 'cluster' column and calculate the mean value of each column for the rows in cluster 1\n",
    "cluster_1_mean_values = cluster_1.groupby('cluster').mean()\n",
    "print(cluster_1_mean_values)\n",
    "\n",
    "# filter the dataframe to only include rows in cluster 2\n",
    "cluster_2 = correlations[correlations['cluster'] == 2]\n",
    "\n",
    "# group by the 'cluster' column and calculate the mean value of each column for the rows in cluster 2\n",
    "cluster_2_mean_values = cluster_2.groupby('cluster').mean()\n",
    "print(cluster_2_mean_values)\n"
   ]
  },
  {
   "attachments": {},
   "cell_type": "markdown",
   "metadata": {},
   "source": [
    "### 2.1.5 Hierarchy - Economic and Race Features Only - Nonstandardized Data"
   ]
  },
  {
   "cell_type": "code",
   "execution_count": 47,
   "metadata": {},
   "outputs": [
    {
     "data": {
      "image/png": "[encoded data removed]",
      "text/plain": [
       "<Figure size 640x480 with 1 Axes>"
      ]
     },
     "metadata": {},
     "output_type": "display_data"
    }
   ],
   "source": [
    "from scipy.cluster.hierarchy import dendrogram, linkage\n",
    "\n",
    "columns_of_interest = ['High Needs #.1', 'Economically Disadvantaged %', 'African American (%)', 'Asian (%)', 'Hispanic (%)', 'White (%)', 'Native American (%)']\n",
    "\n",
    "# calculate the correlations between the selected columns and the test performance column\n",
    "correlations = master_df[columns_of_interest]\n",
    "correlations = correlations.dropna()\n",
    "\n",
    "# df_standardized = (correlations - correlations.mean()) / correlations.std()\n",
    "# df_standardized\n",
    "\n",
    "# Perform hierarchical clustering\n",
    "Z = linkage(correlations, method='ward')\n",
    "\n",
    "# Plot the dendrogram to visualize the clusters\n",
    "dendrogram(Z)\n",
    "\n",
    "# Add labels to the plot\n",
    "plt.title('Hierarchical Clustering Dendrogram')\n",
    "plt.xlabel('Schools')\n",
    "plt.ylabel('Distance')\n",
    "\n",
    "# Show the plot\n",
    "plt.show()\n"
   ]
  },
  {
   "attachments": {},
   "cell_type": "markdown",
   "metadata": {},
   "source": [
    "### 2.1.6 Hierarchy - Economic and Race Features Only - Standardized Data"
   ]
  },
  {
   "cell_type": "code",
   "execution_count": 49,
   "metadata": {},
   "outputs": [
    {
     "data": {
      "image/png": "[encoded data removed]",
      "text/plain": [
       "<Figure size 640x480 with 1 Axes>"
      ]
     },
     "metadata": {},
     "output_type": "display_data"
    }
   ],
   "source": [
    "from scipy.cluster.hierarchy import dendrogram, linkage\n",
    "\n",
    "columns_of_interest = ['High Needs #.1', 'Economically Disadvantaged %', 'African American (%)', 'Asian (%)', 'Hispanic (%)', 'White (%)', 'Native American (%)']\n",
    "\n",
    "# calculate the correlations between the selected columns and the test performance column\n",
    "correlations = master_df[columns_of_interest]\n",
    "correlations = correlations.dropna()\n",
    "\n",
    "df_standardized = (correlations - correlations.mean()) / correlations.std()\n",
    "# df_standardized\n",
    "\n",
    "# Perform hierarchical clustering\n",
    "Z = linkage(df_standardized, method='ward')\n",
    "\n",
    "# Plot the dendrogram to visualize the clusters\n",
    "dendrogram(Z)\n",
    "\n",
    "# Add labels to the plot\n",
    "plt.title('Hierarchical Clustering Dendrogram')\n",
    "plt.xlabel('Schools')\n",
    "plt.ylabel('Distance')\n",
    "\n",
    "# Show the plot\n",
    "plt.show()\n"
   ]
  },
  {
   "attachments": {},
   "cell_type": "markdown",
   "metadata": {},
   "source": [
    "### 2.1.7 Hierarchy - All Features (not yet) - Nonstandardized Data"
   ]
  },
  {
   "cell_type": "code",
   "execution_count": 52,
   "metadata": {},
   "outputs": [
    {
     "data": {
      "image/png": "[encoded data removed]",
      "text/plain": [
       "<Figure size 640x480 with 1 Axes>"
      ]
     },
     "metadata": {},
     "output_type": "display_data"
    }
   ],
   "source": [
    "from scipy.cluster.hierarchy import dendrogram, linkage\n",
    "\n",
    "columns_of_interest = ['pp_stloc_raw_MA', 'pp_fed_raw_MA','First Language Not English %', 'student_teacher_ratio','High Needs #.1', 'Economically Disadvantaged %', 'African American (%)', 'Asian (%)', 'Hispanic (%)', 'White (%)', 'Native American (%)']\n",
    "\n",
    "# calculate the correlations between the selected columns and the test performance column\n",
    "correlations = master_df[columns_of_interest]\n",
    "correlations = correlations.dropna()\n",
    "\n",
    "# df_standardized = (correlations - correlations.mean()) / correlations.std()\n",
    "# df_standardized\n",
    "\n",
    "# Perform hierarchical clustering\n",
    "Z = linkage(correlations, method='ward')\n",
    "\n",
    "# Plot the dendrogram to visualize the clusters\n",
    "dendrogram(Z)\n",
    "\n",
    "# Add labels to the plot\n",
    "plt.title('Hierarchical Clustering Dendrogram')\n",
    "plt.xlabel('Schools')\n",
    "plt.ylabel('Distance')\n",
    "\n",
    "# Show the plot\n",
    "plt.show()\n"
   ]
  },
  {
   "attachments": {},
   "cell_type": "markdown",
   "metadata": {},
   "source": [
    "### 2.1.8 Hierarchy - All Features (not yet) - Standardized Data"
   ]
  },
  {
   "cell_type": "code",
   "execution_count": 51,
   "metadata": {},
   "outputs": [
    {
     "data": {
      "image/png": "[encoded data removed]",
      "text/plain": [
       "<Figure size 640x480 with 1 Axes>"
      ]
     },
     "metadata": {},
     "output_type": "display_data"
    }
   ],
   "source": [
    "from scipy.cluster.hierarchy import dendrogram, linkage\n",
    "\n",
    "columns_of_interest = ['pp_stloc_raw_MA', 'pp_fed_raw_MA','First Language Not English %', 'student_teacher_ratio','High Needs #.1', 'Economically Disadvantaged %', 'African American (%)', 'Asian (%)', 'Hispanic (%)', 'White (%)', 'Native American (%)']\n",
    "\n",
    "# calculate the correlations between the selected columns and the test performance column\n",
    "correlations = master_df[columns_of_interest]\n",
    "correlations = correlations.dropna()\n",
    "\n",
    "df_standardized = (correlations - correlations.mean()) / correlations.std()\n",
    "# df_standardized\n",
    "\n",
    "# Perform hierarchical clustering\n",
    "Z = linkage(df_standardized, method='ward')\n",
    "\n",
    "# Plot the dendrogram to visualize the clusters\n",
    "dendrogram(Z)\n",
    "\n",
    "# Add labels to the plot\n",
    "plt.title('Hierarchical Clustering Dendrogram')\n",
    "plt.xlabel('Schools')\n",
    "plt.ylabel('Distance')\n",
    "\n",
    "# Show the plot\n",
    "plt.show()\n"
   ]
  },
  {
   "attachments": {},
   "cell_type": "markdown",
   "metadata": {},
   "source": [
    "## 2.2 Are there differences in trends between elementary schools, middle schools, and high schools?"
   ]
  },
  {
   "cell_type": "code",
   "execution_count": null,
   "metadata": {},
   "outputs": [],
   "source": [
    "# to-do: compare the linear fit lines for major features between elementary schools, middle schools, and high schools"
   ]
  },
  {
   "attachments": {},
   "cell_type": "markdown",
   "metadata": {},
   "source": [
    "## 2.3 What type of features do high performing, high income schools have?"
   ]
  },
  {
   "attachments": {},
   "cell_type": "markdown",
   "metadata": {},
   "source": [
    "### 2.3.1 Finding Mean / Median Values"
   ]
  },
  {
   "cell_type": "code",
   "execution_count": null,
   "metadata": {},
   "outputs": [],
   "source": [
    "# to-do: calculate the top 20 percentile of performing schools and calculate their average feature values\n",
    "\n",
    "# to-do: calculate the top 20 percentile of performing elementary schools and calculate their average feature values\n",
    "\n",
    "# to-do: calculate the top 20 percentile of performing middle schools and calculate their average feature values\n",
    "\n",
    "# to-do: calculate the top 20 percentile of performing high schools and calculate their average feature values"
   ]
  },
  {
   "attachments": {},
   "cell_type": "markdown",
   "metadata": {},
   "source": [
    "### 2.3.2 Using Cluster Analysis"
   ]
  },
  {
   "cell_type": "code",
   "execution_count": null,
   "metadata": {},
   "outputs": [],
   "source": [
    "# to-do: filter by top 20 percentile of schools and find the primary clusters if k=2 or k=3 or k=4\n",
    "\n",
    "# to-do: filter by top 20 percentile of elementary schools and find the primary clusters if k=2 or k=3 or k=4\n",
    "\n",
    "# to-do: filter by top 20 percentile of middle schools and find the primary clusters if k=2 or k=3 or k=4\n",
    "\n",
    "# to-do: filter by top 20 percentile of high schools and find the primary clusters if k=2 or k=3 or k=4"
   ]
  },
  {
   "attachments": {},
   "cell_type": "markdown",
   "metadata": {},
   "source": [
    "## 2.4 What type of features do high performing, low income schools have?"
   ]
  },
  {
   "attachments": {},
   "cell_type": "markdown",
   "metadata": {},
   "source": [
    "repeat same process as 2.3"
   ]
  },
  {
   "attachments": {},
   "cell_type": "markdown",
   "metadata": {},
   "source": [
    "## 2.5 What type of features do low performing, low income schools have?"
   ]
  },
  {
   "attachments": {},
   "cell_type": "markdown",
   "metadata": {},
   "source": [
    "repeat same process as 2.3"
   ]
  },
  {
   "attachments": {},
   "cell_type": "markdown",
   "metadata": {},
   "source": [
    "## 2.5 What type of features do low performing, high income schools have?"
   ]
  },
  {
   "attachments": {},
   "cell_type": "markdown",
   "metadata": {},
   "source": [
    "repeat same process as 2.3"
   ]
  }
 ],
 "metadata": {
  "kernelspec": {
   "display_name": "Python 3",
   "language": "python",
   "name": "python3"
  },
  "language_info": {
   "codemirror_mode": {
    "name": "ipython",
    "version": 3
   },
   "file_extension": ".py",
   "mimetype": "text/x-python",
   "name": "python",
   "nbconvert_exporter": "python",
   "pygments_lexer": "ipython3",
   "version": "3.11.1"
  },
  "orig_nbformat": 4,
  "vscode": {
   "interpreter": {
    "hash": "aee8b7b246df8f9039afb4144a1f6fd8d2ca17a180786b69acc140d282b71a49"
   }
  }
 },
 "nbformat": 4,
 "nbformat_minor": 2
}
