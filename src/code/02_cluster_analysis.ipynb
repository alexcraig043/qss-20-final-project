{
 "cells": [
  {
   "cell_type": "code",
   "execution_count": 19,
   "metadata": {},
   "outputs": [],
   "source": [
    "import pandas as pd\n",
    "import matplotlib.pyplot as plt\n",
    "import numpy as np\n",
    "import re"
   ]
  },
  {
   "cell_type": "code",
   "execution_count": 20,
   "metadata": {},
   "outputs": [
    {
     "data": {
      "text/html": [
       "<div>\n",
       "<style scoped>\n",
       "    .dataframe tbody tr th:only-of-type {\n",
       "        vertical-align: middle;\n",
       "    }\n",
       "\n",
       "    .dataframe tbody tr th {\n",
       "        vertical-align: top;\n",
       "    }\n",
       "\n",
       "    .dataframe thead th {\n",
       "        text-align: right;\n",
       "    }\n",
       "</style>\n",
       "<table border=\"1\" class=\"dataframe\">\n",
       "  <thead>\n",
       "    <tr style=\"text-align: right;\">\n",
       "      <th></th>\n",
       "      <th>distname</th>\n",
       "      <th>schoolname</th>\n",
       "      <th>flag_nerds</th>\n",
       "      <th>flag_f33</th>\n",
       "      <th>ncesenroll</th>\n",
       "      <th>gradespan</th>\n",
       "      <th>pp_stloc_raw_MA</th>\n",
       "      <th>pp_fed_raw_MA</th>\n",
       "      <th>pp_total_raw_MA</th>\n",
       "      <th>schoolstloc_raw_MA</th>\n",
       "      <th>...</th>\n",
       "      <th>males_staff</th>\n",
       "      <th>fte_staff</th>\n",
       "      <th>student_teacher_ratio</th>\n",
       "      <th>nan_flag</th>\n",
       "      <th>District Name</th>\n",
       "      <th>District Code</th>\n",
       "      <th>salary_totals_teachers</th>\n",
       "      <th>avg_salary_teachers</th>\n",
       "      <th>FTE Count</th>\n",
       "      <th>no_salary_flag</th>\n",
       "    </tr>\n",
       "  </thead>\n",
       "  <tbody>\n",
       "    <tr>\n",
       "      <th>0</th>\n",
       "      <td>Abington</td>\n",
       "      <td>Abington High</td>\n",
       "      <td>0</td>\n",
       "      <td>0</td>\n",
       "      <td>545.0</td>\n",
       "      <td>09-12</td>\n",
       "      <td>14880.475672</td>\n",
       "      <td>20.812074</td>\n",
       "      <td>14901.287746</td>\n",
       "      <td>8.052652e+06</td>\n",
       "      <td>...</td>\n",
       "      <td>27.5</td>\n",
       "      <td>62.4</td>\n",
       "      <td>14.4</td>\n",
       "      <td>False</td>\n",
       "      <td>Abington</td>\n",
       "      <td>10000.0</td>\n",
       "      <td>11469788.0</td>\n",
       "      <td>93861.0</td>\n",
       "      <td>122.2</td>\n",
       "      <td>False</td>\n",
       "    </tr>\n",
       "    <tr>\n",
       "      <th>1</th>\n",
       "      <td>Abington</td>\n",
       "      <td>Abington Middle School</td>\n",
       "      <td>0</td>\n",
       "      <td>0</td>\n",
       "      <td>672.0</td>\n",
       "      <td>05-08</td>\n",
       "      <td>13057.825084</td>\n",
       "      <td>83.417661</td>\n",
       "      <td>13141.242745</td>\n",
       "      <td>8.839857e+06</td>\n",
       "      <td>...</td>\n",
       "      <td>22.7</td>\n",
       "      <td>73.7</td>\n",
       "      <td>17.6</td>\n",
       "      <td>False</td>\n",
       "      <td>Abington</td>\n",
       "      <td>10000.0</td>\n",
       "      <td>11469788.0</td>\n",
       "      <td>93861.0</td>\n",
       "      <td>122.2</td>\n",
       "      <td>False</td>\n",
       "    </tr>\n",
       "    <tr>\n",
       "      <th>2</th>\n",
       "      <td>Abington</td>\n",
       "      <td>Woodsdale Elementary School</td>\n",
       "      <td>0</td>\n",
       "      <td>0</td>\n",
       "      <td>294.0</td>\n",
       "      <td>03-04</td>\n",
       "      <td>13201.700857</td>\n",
       "      <td>499.583587</td>\n",
       "      <td>13701.284443</td>\n",
       "      <td>3.841768e+06</td>\n",
       "      <td>...</td>\n",
       "      <td>11.2</td>\n",
       "      <td>39.4</td>\n",
       "      <td>18.0</td>\n",
       "      <td>False</td>\n",
       "      <td>Abington</td>\n",
       "      <td>10000.0</td>\n",
       "      <td>11469788.0</td>\n",
       "      <td>93861.0</td>\n",
       "      <td>122.2</td>\n",
       "      <td>False</td>\n",
       "    </tr>\n",
       "    <tr>\n",
       "      <th>3</th>\n",
       "      <td>Acton-Boxborough</td>\n",
       "      <td>Acton-Boxborough Regional High</td>\n",
       "      <td>0</td>\n",
       "      <td>0</td>\n",
       "      <td>1837.0</td>\n",
       "      <td>09-12</td>\n",
       "      <td>14634.333856</td>\n",
       "      <td>191.007988</td>\n",
       "      <td>14825.341844</td>\n",
       "      <td>2.676628e+07</td>\n",
       "      <td>...</td>\n",
       "      <td>23.9</td>\n",
       "      <td>195.0</td>\n",
       "      <td>14.7</td>\n",
       "      <td>False</td>\n",
       "      <td>Acton-Boxborough</td>\n",
       "      <td>6000000.0</td>\n",
       "      <td>32945978.0</td>\n",
       "      <td>86677.0</td>\n",
       "      <td>380.1</td>\n",
       "      <td>False</td>\n",
       "    </tr>\n",
       "    <tr>\n",
       "      <th>4</th>\n",
       "      <td>Acton-Boxborough</td>\n",
       "      <td>Blanchard Memorial School</td>\n",
       "      <td>0</td>\n",
       "      <td>0</td>\n",
       "      <td>464.0</td>\n",
       "      <td>KG-06</td>\n",
       "      <td>16005.357328</td>\n",
       "      <td>289.306328</td>\n",
       "      <td>16294.663656</td>\n",
       "      <td>7.481971e+06</td>\n",
       "      <td>...</td>\n",
       "      <td>8.6</td>\n",
       "      <td>79.3</td>\n",
       "      <td>14.3</td>\n",
       "      <td>False</td>\n",
       "      <td>Acton-Boxborough</td>\n",
       "      <td>6000000.0</td>\n",
       "      <td>32945978.0</td>\n",
       "      <td>86677.0</td>\n",
       "      <td>380.1</td>\n",
       "      <td>False</td>\n",
       "    </tr>\n",
       "  </tbody>\n",
       "</table>\n",
       "<p>5 rows × 74 columns</p>\n",
       "</div>"
      ],
      "text/plain": [
       "           distname                      schoolname  flag_nerds  flag_f33  \\\n",
       "0          Abington                   Abington High           0         0   \n",
       "1          Abington          Abington Middle School           0         0   \n",
       "2          Abington     Woodsdale Elementary School           0         0   \n",
       "3  Acton-Boxborough  Acton-Boxborough Regional High           0         0   \n",
       "4  Acton-Boxborough       Blanchard Memorial School           0         0   \n",
       "\n",
       "   ncesenroll gradespan  pp_stloc_raw_MA  pp_fed_raw_MA  pp_total_raw_MA  \\\n",
       "0       545.0     09-12     14880.475672      20.812074     14901.287746   \n",
       "1       672.0     05-08     13057.825084      83.417661     13141.242745   \n",
       "2       294.0     03-04     13201.700857     499.583587     13701.284443   \n",
       "3      1837.0     09-12     14634.333856     191.007988     14825.341844   \n",
       "4       464.0     KG-06     16005.357328     289.306328     16294.663656   \n",
       "\n",
       "   schoolstloc_raw_MA  ...  males_staff  fte_staff student_teacher_ratio  \\\n",
       "0        8.052652e+06  ...         27.5       62.4                  14.4   \n",
       "1        8.839857e+06  ...         22.7       73.7                  17.6   \n",
       "2        3.841768e+06  ...         11.2       39.4                  18.0   \n",
       "3        2.676628e+07  ...         23.9      195.0                  14.7   \n",
       "4        7.481971e+06  ...          8.6       79.3                  14.3   \n",
       "\n",
       "  nan_flag     District Name  District Code  salary_totals_teachers  \\\n",
       "0    False          Abington        10000.0              11469788.0   \n",
       "1    False          Abington        10000.0              11469788.0   \n",
       "2    False          Abington        10000.0              11469788.0   \n",
       "3    False  Acton-Boxborough      6000000.0              32945978.0   \n",
       "4    False  Acton-Boxborough      6000000.0              32945978.0   \n",
       "\n",
       "   avg_salary_teachers  FTE Count  no_salary_flag  \n",
       "0              93861.0      122.2           False  \n",
       "1              93861.0      122.2           False  \n",
       "2              93861.0      122.2           False  \n",
       "3              86677.0      380.1           False  \n",
       "4              86677.0      380.1           False  \n",
       "\n",
       "[5 rows x 74 columns]"
      ]
     },
     "execution_count": 20,
     "metadata": {},
     "output_type": "execute_result"
    }
   ],
   "source": [
    "master_df = pd.read_csv(\"../output/master_df.csv\")\n",
    "master_df.head()"
   ]
  },
  {
   "attachments": {},
   "cell_type": "markdown",
   "metadata": {},
   "source": [
    "## 2.1 Cluster Analysis - General Insight Extraction (WIP)\n",
    "- Format the learnings into more readable / understandable format\n",
    "- Maybe write one sentence blurbs for each one too\n",
    "- Need to add more columns for some of the correlation analysis\n",
    "- Analyze the hierarchal outcome. what were the main groupings?\n",
    "- Add a paragraph summarizing the learnings in the last section"
   ]
  },
  {
   "attachments": {},
   "cell_type": "markdown",
   "metadata": {},
   "source": [
    "### 2.1.1 KMeans - Economic and Race Features Only - 2 Clusters"
   ]
  },
  {
   "cell_type": "code",
   "execution_count": 21,
   "metadata": {},
   "outputs": [
    {
     "name": "stdout",
     "output_type": "stream",
     "text": [
      "0    1056\n",
      "1     395\n",
      "Name: cluster, dtype: int64\n",
      "         High Needs #.1  Economically Disadvantaged %  African American  \\\n",
      "cluster                                                                   \n",
      "0              34.53589                     19.401799          3.483523   \n",
      "\n",
      "            Asian  Hispanic      White  Native American  \n",
      "cluster                                                  \n",
      "0        6.605682  7.737405  77.802652         0.222254  \n",
      "         High Needs #.1  Economically Disadvantaged %  African American  \\\n",
      "cluster                                                                   \n",
      "1             76.459241                      60.65038         16.827342   \n",
      "\n",
      "            Asian   Hispanic      White  Native American  \n",
      "cluster                                                   \n",
      "1        6.218228  47.119241  25.706076         0.221772  \n"
     ]
    },
    {
     "name": "stderr",
     "output_type": "stream",
     "text": [
      "/opt/homebrew/lib/python3.10/site-packages/sklearn/cluster/_kmeans.py:870: FutureWarning: The default value of `n_init` will change from 10 to 'auto' in 1.4. Set the value of `n_init` explicitly to suppress the warning\n",
      "  warnings.warn(\n"
     ]
    }
   ],
   "source": [
    "# select the columns you want to calculate correlation with\n",
    "from sklearn.cluster import KMeans\n",
    "\n",
    "columns_of_interest = ['High Needs #.1', 'Economically Disadvantaged %', 'African American', 'Asian', 'Hispanic', 'White', 'Native American']\n",
    "\n",
    "# calculate the correlations between the selected columns and the test performance column\n",
    "correlations = master_df[columns_of_interest]\n",
    "correlations = correlations.dropna()\n",
    "\n",
    "df_standardized = (correlations - correlations.mean()) / correlations.std()\n",
    "df_standardized\n",
    "\n",
    "# # fit the k-means algorithm on the standardized data\n",
    "kmeans = KMeans(n_clusters=2, random_state=0).fit(df_standardized)\n",
    "\n",
    "# get the cluster labels for each school\n",
    "cluster_labels = kmeans.labels_\n",
    "\n",
    "# add the cluster labels as a new column to the original dataframe\n",
    "correlations['cluster'] = cluster_labels\n",
    "\n",
    "# calculate the mean values of each feature for each cluster\n",
    "cluster_means = correlations.groupby('cluster').mean()\n",
    "\n",
    "# explanatory analysis\n",
    "print(correlations['cluster'].value_counts())\n",
    "\n",
    "# filter the dataframe to only include rows in cluster 0\n",
    "cluster_0 = correlations[correlations['cluster'] == 0]\n",
    "\n",
    "# group by the 'cluster' column and calculate the mean value of each column for the rows in cluster 0\n",
    "cluster_0_mean_values = cluster_0.groupby('cluster').mean()\n",
    "print(cluster_0_mean_values)\n",
    "\n",
    "# # group by the 'cluster' column and calculate the median value of each column for the rows in cluster 0\n",
    "# cluster_0_median_values = cluster_0.groupby('cluster').median()\n",
    "# print(cluster_0_median_values)\n",
    "\n",
    "# filter the dataframe to only include rows in cluster 1\n",
    "cluster_1 = correlations[correlations['cluster'] == 1]\n",
    "\n",
    "# group by the 'cluster' column and calculate the mean value of each column for the rows in cluster 0\n",
    "cluster_1_mean_values = cluster_1.groupby('cluster').mean()\n",
    "print(cluster_1_mean_values)\n",
    "\n",
    "# # group by the 'cluster' column and calculate the median value of each column for the rows in cluster 0\n",
    "# cluster_1__median_values = cluster_1.groupby('cluster').median()\n",
    "# print(cluster_1__median_values)"
   ]
  },
  {
   "attachments": {},
   "cell_type": "markdown",
   "metadata": {},
   "source": [
    "### 2.1.2 KMeans - Economic and Race Features Only - 3 Clusters"
   ]
  },
  {
   "cell_type": "code",
   "execution_count": 22,
   "metadata": {},
   "outputs": [
    {
     "name": "stdout",
     "output_type": "stream",
     "text": [
      "1    918\n",
      "2    372\n",
      "0    161\n",
      "Name: cluster, dtype: int64\n",
      "         High Needs #.1  Economically Disadvantaged %  African American  \\\n",
      "cluster                                                                   \n",
      "0             38.531677                     16.509938          5.742857   \n",
      "\n",
      "             Asian  Hispanic      White  Native American  \n",
      "cluster                                                   \n",
      "0        27.316149  8.198137  53.102484         0.171429  \n",
      "         High Needs #.1  Economically Disadvantaged %  African American  \\\n",
      "cluster                                                                   \n",
      "1             34.694227                     20.577996          3.301743   \n",
      "\n",
      "            Asian  Hispanic      White  Native American  \n",
      "cluster                                                  \n",
      "1        3.729412  7.943573  80.860131         0.230392  \n",
      "         High Needs #.1  Economically Disadvantaged %  African American  \\\n",
      "cluster                                                                   \n",
      "2             76.931183                     61.549731         17.123118   \n",
      "\n",
      "            Asian   Hispanic      White  Native American  \n",
      "cluster                                                   \n",
      "2        4.328763  48.845968  25.630108         0.223656  \n"
     ]
    },
    {
     "name": "stderr",
     "output_type": "stream",
     "text": [
      "/opt/homebrew/lib/python3.10/site-packages/sklearn/cluster/_kmeans.py:870: FutureWarning: The default value of `n_init` will change from 10 to 'auto' in 1.4. Set the value of `n_init` explicitly to suppress the warning\n",
      "  warnings.warn(\n"
     ]
    }
   ],
   "source": [
    "# select the columns you want to calculate correlation with\n",
    "from sklearn.cluster import KMeans\n",
    "\n",
    "columns_of_interest = ['High Needs #.1', 'Economically Disadvantaged %', 'African American', 'Asian', 'Hispanic', 'White', 'Native American']\n",
    "\n",
    "# calculate the correlations between the selected columns and the test performance column\n",
    "correlations = master_df[columns_of_interest]\n",
    "correlations = correlations.dropna()\n",
    "\n",
    "df_standardized = (correlations - correlations.mean()) / correlations.std()\n",
    "df_standardized\n",
    "\n",
    "# # fit the k-means algorithm on the standardized data\n",
    "kmeans = KMeans(n_clusters=3, random_state=0).fit(df_standardized)\n",
    "\n",
    "# get the cluster labels for each school\n",
    "cluster_labels = kmeans.labels_\n",
    "\n",
    "# add the cluster labels as a new column to the original dataframe\n",
    "correlations['cluster'] = cluster_labels\n",
    "\n",
    "# calculate the mean values of each feature for each cluster\n",
    "cluster_means = correlations.groupby('cluster').mean()\n",
    "\n",
    "# explanatory analysis\n",
    "print(correlations['cluster'].value_counts())\n",
    "\n",
    "# filter the dataframe to only include rows in cluster 0\n",
    "cluster_0 = correlations[correlations['cluster'] == 0]\n",
    "\n",
    "# group by the 'cluster' column and calculate the mean value of each column for the rows in cluster 0\n",
    "cluster_0_mean_values = cluster_0.groupby('cluster').mean()\n",
    "print(cluster_0_mean_values)\n",
    "\n",
    "# filter the dataframe to only include rows in cluster 1\n",
    "cluster_1 = correlations[correlations['cluster'] == 1]\n",
    "\n",
    "# group by the 'cluster' column and calculate the mean value of each column for the rows in cluster 1\n",
    "cluster_1_mean_values = cluster_1.groupby('cluster').mean()\n",
    "print(cluster_1_mean_values)\n",
    "\n",
    "# filter the dataframe to only include rows in cluster 2\n",
    "cluster_2 = correlations[correlations['cluster'] == 2]\n",
    "\n",
    "# group by the 'cluster' column and calculate the mean value of each column for the rows in cluster 2\n",
    "cluster_2_mean_values = cluster_2.groupby('cluster').mean()\n",
    "print(cluster_2_mean_values)\n"
   ]
  },
  {
   "attachments": {},
   "cell_type": "markdown",
   "metadata": {},
   "source": [
    "### 2.1.3 KMeans - Economic and Race Features Only - 4 Clusters"
   ]
  },
  {
   "cell_type": "code",
   "execution_count": 23,
   "metadata": {},
   "outputs": [
    {
     "name": "stderr",
     "output_type": "stream",
     "text": [
      "/opt/homebrew/lib/python3.10/site-packages/sklearn/cluster/_kmeans.py:870: FutureWarning: The default value of `n_init` will change from 10 to 'auto' in 1.4. Set the value of `n_init` explicitly to suppress the warning\n",
      "  warnings.warn(\n"
     ]
    },
    {
     "name": "stdout",
     "output_type": "stream",
     "text": [
      "0    919\n",
      "1    315\n",
      "3    164\n",
      "2     53\n",
      "Name: cluster, dtype: int64\n",
      "         High Needs #.1  Economically Disadvantaged %  African American  \\\n",
      "cluster                                                                   \n",
      "0             34.735365                     20.606638          3.314908   \n",
      "\n",
      "            Asian  Hispanic      White  Native American  \n",
      "cluster                                                  \n",
      "0        3.724157   7.96333  80.825027         0.231012  \n",
      "         High Needs #.1  Economically Disadvantaged %  African American  \\\n",
      "cluster                                                                   \n",
      "1             77.886349                     62.973016         10.984127   \n",
      "\n",
      "            Asian  Hispanic      White  Native American  \n",
      "cluster                                                  \n",
      "1        4.166667  53.47746  27.423175         0.207302  \n",
      "         High Needs #.1  Economically Disadvantaged %  African American  \\\n",
      "cluster                                                                   \n",
      "2             72.479245                     54.813208         53.341509   \n",
      "\n",
      "            Asian   Hispanic      White  Native American  \n",
      "cluster                                                   \n",
      "2        4.718868  23.232075  14.107547         0.311321  \n",
      "         High Needs #.1  Economically Disadvantaged %  African American  \\\n",
      "cluster                                                                   \n",
      "3             38.865244                     16.866463          6.048171   \n",
      "\n",
      "             Asian  Hispanic      White  Native American  \n",
      "cluster                                                   \n",
      "3        27.114024  8.462195  52.739634         0.171951  \n"
     ]
    }
   ],
   "source": [
    "# select the columns you want to calculate correlation with\n",
    "from sklearn.cluster import KMeans\n",
    "\n",
    "columns_of_interest = ['High Needs #.1', 'Economically Disadvantaged %', 'African American', 'Asian', 'Hispanic', 'White', 'Native American']\n",
    "\n",
    "# calculate the correlations between the selected columns and the test performance column\n",
    "correlations = master_df[columns_of_interest]\n",
    "correlations = correlations.dropna()\n",
    "\n",
    "df_standardized = (correlations - correlations.mean()) / correlations.std()\n",
    "df_standardized\n",
    "\n",
    "# # fit the k-means algorithm on the standardized data\n",
    "kmeans = KMeans(n_clusters=4, random_state=0).fit(df_standardized)\n",
    "\n",
    "# get the cluster labels for each school\n",
    "cluster_labels = kmeans.labels_\n",
    "\n",
    "# add the cluster labels as a new column to the original dataframe\n",
    "correlations['cluster'] = cluster_labels\n",
    "\n",
    "# calculate the mean values of each feature for each cluster\n",
    "cluster_means = correlations.groupby('cluster').mean()\n",
    "\n",
    "# explanatory analysis\n",
    "print(correlations['cluster'].value_counts())\n",
    "\n",
    "# filter the dataframe to only include rows in cluster 0\n",
    "cluster_0 = correlations[correlations['cluster'] == 0]\n",
    "\n",
    "# group by the 'cluster' column and calculate the mean value of each column for the rows in cluster 0\n",
    "cluster_0_mean_values = cluster_0.groupby('cluster').mean()\n",
    "print(cluster_0_mean_values)\n",
    "\n",
    "# filter the dataframe to only include rows in cluster 1\n",
    "cluster_1 = correlations[correlations['cluster'] == 1]\n",
    "\n",
    "# group by the 'cluster' column and calculate the mean value of each column for the rows in cluster 1\n",
    "cluster_1_mean_values = cluster_1.groupby('cluster').mean()\n",
    "print(cluster_1_mean_values)\n",
    "\n",
    "# filter the dataframe to only include rows in cluster 2\n",
    "cluster_2 = correlations[correlations['cluster'] == 2]\n",
    "\n",
    "# group by the 'cluster' column and calculate the mean value of each column for the rows in cluster 2\n",
    "cluster_2_mean_values = cluster_2.groupby('cluster').mean()\n",
    "print(cluster_2_mean_values)\n",
    "\n",
    "# filter the dataframe to only include rows in cluster 3\n",
    "cluster_3 = correlations[correlations['cluster'] == 3]\n",
    "\n",
    "# group by the 'cluster' column and calculate the mean value of each column for the rows in cluster 3\n",
    "cluster_3_mean_values = cluster_3.groupby('cluster').mean()\n",
    "print(cluster_3_mean_values)"
   ]
  },
  {
   "attachments": {},
   "cell_type": "markdown",
   "metadata": {},
   "source": [
    "### 2.1.4 KMeans - All Features - 3 Clusters"
   ]
  },
  {
   "cell_type": "code",
   "execution_count": 24,
   "metadata": {},
   "outputs": [
    {
     "name": "stderr",
     "output_type": "stream",
     "text": [
      "/opt/homebrew/lib/python3.10/site-packages/sklearn/cluster/_kmeans.py:870: FutureWarning: The default value of `n_init` will change from 10 to 'auto' in 1.4. Set the value of `n_init` explicitly to suppress the warning\n",
      "  warnings.warn(\n"
     ]
    },
    {
     "name": "stdout",
     "output_type": "stream",
     "text": [
      "1    864\n",
      "2    361\n",
      "0    226\n",
      "Name: cluster, dtype: int64\n",
      "         pp_stloc_raw_MA  pp_fed_raw_MA  First Language Not English %  \\\n",
      "cluster                                                                 \n",
      "0           19466.548616     408.506672                     25.115487   \n",
      "\n",
      "         student_teacher_ratio  High Needs #.1  Economically Disadvantaged %  \\\n",
      "cluster                                                                        \n",
      "0                    11.811504        42.50708                     21.451327   \n",
      "\n",
      "         African American      Asian   Hispanic      White  Native American  \n",
      "cluster                                                                      \n",
      "0                6.944248  18.450885  11.274779  57.022566         0.478319  \n",
      "         pp_stloc_raw_MA  pp_fed_raw_MA  First Language Not English %  \\\n",
      "cluster                                                                 \n",
      "1           15280.922805     361.832641                      6.841319   \n",
      "\n",
      "         student_teacher_ratio  High Needs #.1  Economically Disadvantaged %  \\\n",
      "cluster                                                                        \n",
      "1                    13.128009       33.588426                     19.856481   \n",
      "\n",
      "         African American     Asian  Hispanic      White  Native American  \n",
      "cluster                                                                    \n",
      "1                3.002778  3.971991  7.355556  81.747222         0.163079  \n",
      "         pp_stloc_raw_MA  pp_fed_raw_MA  First Language Not English %  \\\n",
      "cluster                                                                 \n",
      "2           15505.954401    1223.835317                     42.498338   \n",
      "\n",
      "         student_teacher_ratio  High Needs #.1  Economically Disadvantaged %  \\\n",
      "cluster                                                                        \n",
      "2                    13.222289       77.685042                     62.163989   \n",
      "\n",
      "         African American     Asian   Hispanic      White  Native American  \n",
      "cluster                                                                     \n",
      "2               17.068144  5.069529  49.527701  24.367867         0.203047  \n"
     ]
    }
   ],
   "source": [
    "# select the columns you want to calculate correlation with\n",
    "from sklearn.cluster import KMeans\n",
    "\n",
    "columns_of_interest = ['pp_stloc_raw_MA', 'pp_fed_raw_MA','First Language Not English %', 'student_teacher_ratio','High Needs #.1', 'Economically Disadvantaged %', 'African American', 'Asian', 'Hispanic', 'White', 'Native American']\n",
    "\n",
    "# calculate the correlations between the selected columns and the test performance column\n",
    "correlations = master_df[columns_of_interest]\n",
    "correlations = correlations.dropna()\n",
    "\n",
    "df_standardized = (correlations - correlations.mean()) / correlations.std()\n",
    "df_standardized\n",
    "\n",
    "# # fit the k-means algorithm on the standardized data\n",
    "kmeans = KMeans(n_clusters=3, random_state=0).fit(df_standardized)\n",
    "\n",
    "# get the cluster labels for each school\n",
    "cluster_labels = kmeans.labels_\n",
    "\n",
    "# add the cluster labels as a new column to the original dataframe\n",
    "correlations['cluster'] = cluster_labels\n",
    "\n",
    "# calculate the mean values of each feature for each cluster\n",
    "cluster_means = correlations.groupby('cluster').mean()\n",
    "\n",
    "# explanatory analysis\n",
    "print(correlations['cluster'].value_counts())\n",
    "\n",
    "# filter the dataframe to only include rows in cluster 0\n",
    "cluster_0 = correlations[correlations['cluster'] == 0]\n",
    "\n",
    "# group by the 'cluster' column and calculate the mean value of each column for the rows in cluster 0\n",
    "cluster_0_mean_values = cluster_0.groupby('cluster').mean()\n",
    "print(cluster_0_mean_values)\n",
    "\n",
    "# filter the dataframe to only include rows in cluster 1\n",
    "cluster_1 = correlations[correlations['cluster'] == 1]\n",
    "\n",
    "# group by the 'cluster' column and calculate the mean value of each column for the rows in cluster 1\n",
    "cluster_1_mean_values = cluster_1.groupby('cluster').mean()\n",
    "print(cluster_1_mean_values)\n",
    "\n",
    "# filter the dataframe to only include rows in cluster 2\n",
    "cluster_2 = correlations[correlations['cluster'] == 2]\n",
    "\n",
    "# group by the 'cluster' column and calculate the mean value of each column for the rows in cluster 2\n",
    "cluster_2_mean_values = cluster_2.groupby('cluster').mean()\n",
    "print(cluster_2_mean_values)\n"
   ]
  },
  {
   "attachments": {},
   "cell_type": "markdown",
   "metadata": {},
   "source": [
    "### 2.1.5 Hierarchy - Economic and Race Features Only - Nonstandardized Data"
   ]
  },
  {
   "cell_type": "code",
   "execution_count": 25,
   "metadata": {},
   "outputs": [
    {
     "data": {
      "image/png": "[encoded data removed]",
      "text/plain": [
       "<Figure size 640x480 with 1 Axes>"
      ]
     },
     "metadata": {},
     "output_type": "display_data"
    }
   ],
   "source": [
    "from scipy.cluster.hierarchy import dendrogram, linkage\n",
    "\n",
    "columns_of_interest = ['High Needs #.1', 'Economically Disadvantaged %', 'African American', 'Asian', 'Hispanic', 'White', 'Native American']\n",
    "\n",
    "# calculate the correlations between the selected columns and the test performance column\n",
    "correlations = master_df[columns_of_interest]\n",
    "correlations = correlations.dropna()\n",
    "\n",
    "# df_standardized = (correlations - correlations.mean()) / correlations.std()\n",
    "# df_standardized\n",
    "\n",
    "# Perform hierarchical clustering\n",
    "Z = linkage(correlations, method='ward')\n",
    "\n",
    "# Plot the dendrogram to visualize the clusters\n",
    "dendrogram(Z)\n",
    "\n",
    "# Add labels to the plot\n",
    "plt.title('Hierarchical Clustering Dendrogram')\n",
    "plt.xlabel('Schools')\n",
    "plt.ylabel('Distance')\n",
    "\n",
    "# Show the plot\n",
    "plt.show()\n"
   ]
  },
  {
   "attachments": {},
   "cell_type": "markdown",
   "metadata": {},
   "source": [
    "### 2.1.6 Hierarchy - Economic and Race Features Only - Standardized Data"
   ]
  },
  {
   "cell_type": "code",
   "execution_count": 26,
   "metadata": {},
   "outputs": [
    {
     "data": {
      "image/png": "[encoded data removed]",
      "text/plain": [
       "<Figure size 640x480 with 1 Axes>"
      ]
     },
     "metadata": {},
     "output_type": "display_data"
    }
   ],
   "source": [
    "from scipy.cluster.hierarchy import dendrogram, linkage\n",
    "\n",
    "columns_of_interest = ['High Needs #.1', 'Economically Disadvantaged %', 'African American', 'Asian', 'Hispanic', 'White', 'Native American']\n",
    "\n",
    "# calculate the correlations between the selected columns and the test performance column\n",
    "correlations = master_df[columns_of_interest]\n",
    "correlations = correlations.dropna()\n",
    "\n",
    "df_standardized = (correlations - correlations.mean()) / correlations.std()\n",
    "# df_standardized\n",
    "\n",
    "# Perform hierarchical clustering\n",
    "Z = linkage(df_standardized, method='ward')\n",
    "\n",
    "# Plot the dendrogram to visualize the clusters\n",
    "dendrogram(Z)\n",
    "\n",
    "# Add labels to the plot\n",
    "plt.title('Hierarchical Clustering Dendrogram')\n",
    "plt.xlabel('Schools')\n",
    "plt.ylabel('Distance')\n",
    "\n",
    "# Show the plot\n",
    "plt.show()\n"
   ]
  },
  {
   "attachments": {},
   "cell_type": "markdown",
   "metadata": {},
   "source": [
    "### 2.1.7 Hierarchy - All Features (not yet) - Nonstandardized Data"
   ]
  },
  {
   "cell_type": "code",
   "execution_count": 27,
   "metadata": {},
   "outputs": [
    {
     "data": {
      "image/png": "[encoded data removed]",
      "text/plain": [
       "<Figure size 640x480 with 1 Axes>"
      ]
     },
     "metadata": {},
     "output_type": "display_data"
    }
   ],
   "source": [
    "from scipy.cluster.hierarchy import dendrogram, linkage\n",
    "\n",
    "columns_of_interest = ['pp_stloc_raw_MA', 'pp_fed_raw_MA','First Language Not English %', 'student_teacher_ratio','High Needs #.1', 'Economically Disadvantaged %', 'African American', 'Asian', 'Hispanic', 'White', 'Native American']\n",
    "\n",
    "# calculate the correlations between the selected columns and the test performance column\n",
    "correlations = master_df[columns_of_interest]\n",
    "correlations = correlations.dropna()\n",
    "\n",
    "# df_standardized = (correlations - correlations.mean()) / correlations.std()\n",
    "# df_standardized\n",
    "\n",
    "# Perform hierarchical clustering\n",
    "Z = linkage(correlations, method='ward')\n",
    "\n",
    "# Plot the dendrogram to visualize the clusters\n",
    "dendrogram(Z)\n",
    "\n",
    "# Add labels to the plot\n",
    "plt.title('Hierarchical Clustering Dendrogram')\n",
    "plt.xlabel('Schools')\n",
    "plt.ylabel('Distance')\n",
    "\n",
    "# Show the plot\n",
    "plt.show()\n"
   ]
  },
  {
   "attachments": {},
   "cell_type": "markdown",
   "metadata": {},
   "source": [
    "### 2.1.8 Hierarchy - All Features (not yet) - Standardized Data"
   ]
  },
  {
   "cell_type": "code",
   "execution_count": 28,
   "metadata": {},
   "outputs": [
    {
     "data": {
      "image/png": "[encoded data removed]",
      "text/plain": [
       "<Figure size 640x480 with 1 Axes>"
      ]
     },
     "metadata": {},
     "output_type": "display_data"
    }
   ],
   "source": [
    "from scipy.cluster.hierarchy import dendrogram, linkage\n",
    "\n",
    "columns_of_interest = ['pp_stloc_raw_MA', 'pp_fed_raw_MA','First Language Not English %', 'student_teacher_ratio','High Needs #.1', 'Economically Disadvantaged %', 'African American', 'Asian', 'Hispanic', 'White', 'Native American']\n",
    "\n",
    "# calculate the correlations between the selected columns and the test performance column\n",
    "correlations = master_df[columns_of_interest]\n",
    "correlations = correlations.dropna()\n",
    "\n",
    "df_standardized = (correlations - correlations.mean()) / correlations.std()\n",
    "# df_standardized\n",
    "\n",
    "# Perform hierarchical clustering\n",
    "Z = linkage(df_standardized, method='ward')\n",
    "\n",
    "# Plot the dendrogram to visualize the clusters\n",
    "dendrogram(Z)\n",
    "\n",
    "# Add labels to the plot\n",
    "plt.title('Hierarchical Clustering Dendrogram')\n",
    "plt.xlabel('Schools')\n",
    "plt.ylabel('Distance')\n",
    "\n",
    "# Show the plot\n",
    "plt.show()\n"
   ]
  },
  {
   "attachments": {},
   "cell_type": "markdown",
   "metadata": {},
   "source": [
    "### 2.1.9 Summary of Insights"
   ]
  },
  {
   "attachments": {},
   "cell_type": "markdown",
   "metadata": {},
   "source": [
    "todo:"
   ]
  },
  {
   "attachments": {},
   "cell_type": "markdown",
   "metadata": {},
   "source": [
    "## 2.2 Are there differences in trends between elementary schools, middle schools, and high schools?"
   ]
  },
  {
   "cell_type": "code",
   "execution_count": 29,
   "metadata": {},
   "outputs": [],
   "source": [
    "# to-do: compare the linear fit lines for major features between elementary schools, middle schools, and high schools"
   ]
  },
  {
   "attachments": {},
   "cell_type": "markdown",
   "metadata": {},
   "source": [
    "## 2.3 What type of features do high performing, high income schools have?"
   ]
  },
  {
   "attachments": {},
   "cell_type": "markdown",
   "metadata": {},
   "source": [
    "### 2.3.1 Finding Mean / Median Values"
   ]
  },
  {
   "cell_type": "code",
   "execution_count": 30,
   "metadata": {},
   "outputs": [],
   "source": [
    "# to-do: calculate the top 20 percentile of performing schools and calculate their average feature values\n",
    "\n",
    "# to-do: calculate the top 20 percentile of performing elementary schools and calculate their average feature values\n",
    "\n",
    "# to-do: calculate the top 20 percentile of performing middle schools and calculate their average feature values\n",
    "\n",
    "# to-do: calculate the top 20 percentile of performing high schools and calculate their average feature values"
   ]
  },
  {
   "attachments": {},
   "cell_type": "markdown",
   "metadata": {},
   "source": [
    "### 2.3.2 Using Cluster Analysis"
   ]
  },
  {
   "cell_type": "code",
   "execution_count": 31,
   "metadata": {},
   "outputs": [],
   "source": [
    "# to-do: filter by top 20 percentile of schools and find the primary clusters if k=2 or k=3 or k=4\n",
    "\n",
    "# to-do: filter by top 20 percentile of elementary schools and find the primary clusters if k=2 or k=3 or k=4\n",
    "\n",
    "# to-do: filter by top 20 percentile of middle schools and find the primary clusters if k=2 or k=3 or k=4\n",
    "\n",
    "# to-do: filter by top 20 percentile of high schools and find the primary clusters if k=2 or k=3 or k=4"
   ]
  },
  {
   "attachments": {},
   "cell_type": "markdown",
   "metadata": {},
   "source": [
    "## 2.4 What type of features do high performing, low income schools have?"
   ]
  },
  {
   "attachments": {},
   "cell_type": "markdown",
   "metadata": {},
   "source": [
    "repeat same process as 2.3"
   ]
  },
  {
   "attachments": {},
   "cell_type": "markdown",
   "metadata": {},
   "source": [
    "## 2.5 What type of features do low performing, low income schools have?"
   ]
  },
  {
   "attachments": {},
   "cell_type": "markdown",
   "metadata": {},
   "source": [
    "repeat same process as 2.3"
   ]
  },
  {
   "attachments": {},
   "cell_type": "markdown",
   "metadata": {},
   "source": [
    "## 2.5 What type of features do low performing, high income schools have?"
   ]
  },
  {
   "attachments": {},
   "cell_type": "markdown",
   "metadata": {},
   "source": [
    "repeat same process as 2.3"
   ]
  }
 ],
 "metadata": {
  "kernelspec": {
   "display_name": "Python 3",
   "language": "python",
   "name": "python3"
  },
  "language_info": {
   "codemirror_mode": {
    "name": "ipython",
    "version": 3
   },
   "file_extension": ".py",
   "mimetype": "text/x-python",
   "name": "python",
   "nbconvert_exporter": "python",
   "pygments_lexer": "ipython3",
   "version": "3.10.9"
  },
  "orig_nbformat": 4,
  "vscode": {
   "interpreter": {
    "hash": "aee8b7b246df8f9039afb4144a1f6fd8d2ca17a180786b69acc140d282b71a49"
   }
  }
 },
 "nbformat": 4,
 "nbformat_minor": 2
}
